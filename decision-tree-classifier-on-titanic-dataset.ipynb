{
 "cells": [
  {
   "cell_type": "code",
   "execution_count": 1,
   "id": "1b0005d5",
   "metadata": {
    "_cell_guid": "b1076dfc-b9ad-4769-8c92-a6c4dae69d19",
    "_uuid": "8f2839f25d086af736a60e9eeb907d3b93b6e0e5",
    "execution": {
     "iopub.execute_input": "2025-07-02T09:41:29.936791Z",
     "iopub.status.busy": "2025-07-02T09:41:29.936483Z",
     "iopub.status.idle": "2025-07-02T09:41:31.759078Z",
     "shell.execute_reply": "2025-07-02T09:41:31.758049Z"
    },
    "papermill": {
     "duration": 1.830573,
     "end_time": "2025-07-02T09:41:31.760535",
     "exception": false,
     "start_time": "2025-07-02T09:41:29.929962",
     "status": "completed"
    },
    "tags": []
   },
   "outputs": [
    {
     "name": "stdout",
     "output_type": "stream",
     "text": [
      "/kaggle/input/titanic/train.csv\n",
      "/kaggle/input/titanic/test.csv\n",
      "/kaggle/input/titanic/gender_submission.csv\n"
     ]
    }
   ],
   "source": [
    "# This Python 3 environment comes with many helpful analytics libraries installed\n",
    "# It is defined by the kaggle/python Docker image: https://github.com/kaggle/docker-python\n",
    "# For example, here's several helpful packages to load\n",
    "\n",
    "import numpy as np # linear algebra\n",
    "import pandas as pd # data processing, CSV file I/O (e.g. pd.read_csv)\n",
    "\n",
    "# Input data files are available in the read-only \"../input/\" directory\n",
    "# For example, running this (by clicking run or pressing Shift+Enter) will list all files under the input directory\n",
    "\n",
    "import os\n",
    "for dirname, _, filenames in os.walk('/kaggle/input'):\n",
    "    for filename in filenames:\n",
    "        print(os.path.join(dirname, filename))\n",
    "\n",
    "# You can write up to 20GB to the current directory (/kaggle/working/) that gets preserved as output when you create a version using \"Save & Run All\" \n",
    "# You can also write temporary files to /kaggle/temp/, but they won't be saved outside of the current session"
   ]
  },
  {
   "cell_type": "code",
   "execution_count": 2,
   "id": "7f708b01",
   "metadata": {
    "execution": {
     "iopub.execute_input": "2025-07-02T09:41:31.771458Z",
     "iopub.status.busy": "2025-07-02T09:41:31.771023Z",
     "iopub.status.idle": "2025-07-02T09:41:31.794011Z",
     "shell.execute_reply": "2025-07-02T09:41:31.793205Z"
    },
    "papermill": {
     "duration": 0.030109,
     "end_time": "2025-07-02T09:41:31.795628",
     "exception": false,
     "start_time": "2025-07-02T09:41:31.765519",
     "status": "completed"
    },
    "tags": []
   },
   "outputs": [],
   "source": [
    "test_data=pd.read_csv('/kaggle/input/titanic/test.csv')"
   ]
  },
  {
   "cell_type": "code",
   "execution_count": 3,
   "id": "7e606929",
   "metadata": {
    "execution": {
     "iopub.execute_input": "2025-07-02T09:41:31.806175Z",
     "iopub.status.busy": "2025-07-02T09:41:31.805832Z",
     "iopub.status.idle": "2025-07-02T09:41:31.817981Z",
     "shell.execute_reply": "2025-07-02T09:41:31.817059Z"
    },
    "papermill": {
     "duration": 0.019336,
     "end_time": "2025-07-02T09:41:31.819709",
     "exception": false,
     "start_time": "2025-07-02T09:41:31.800373",
     "status": "completed"
    },
    "tags": []
   },
   "outputs": [],
   "source": [
    "train_data=pd.read_csv('/kaggle/input/titanic/train.csv')"
   ]
  },
  {
   "cell_type": "code",
   "execution_count": 4,
   "id": "2e7969f7",
   "metadata": {
    "execution": {
     "iopub.execute_input": "2025-07-02T09:41:31.830135Z",
     "iopub.status.busy": "2025-07-02T09:41:31.829832Z",
     "iopub.status.idle": "2025-07-02T09:41:31.857656Z",
     "shell.execute_reply": "2025-07-02T09:41:31.856721Z"
    },
    "papermill": {
     "duration": 0.03477,
     "end_time": "2025-07-02T09:41:31.859200",
     "exception": false,
     "start_time": "2025-07-02T09:41:31.824430",
     "status": "completed"
    },
    "tags": []
   },
   "outputs": [
    {
     "data": {
      "text/html": [
       "<div>\n",
       "<style scoped>\n",
       "    .dataframe tbody tr th:only-of-type {\n",
       "        vertical-align: middle;\n",
       "    }\n",
       "\n",
       "    .dataframe tbody tr th {\n",
       "        vertical-align: top;\n",
       "    }\n",
       "\n",
       "    .dataframe thead th {\n",
       "        text-align: right;\n",
       "    }\n",
       "</style>\n",
       "<table border=\"1\" class=\"dataframe\">\n",
       "  <thead>\n",
       "    <tr style=\"text-align: right;\">\n",
       "      <th></th>\n",
       "      <th>PassengerId</th>\n",
       "      <th>Pclass</th>\n",
       "      <th>Name</th>\n",
       "      <th>Sex</th>\n",
       "      <th>Age</th>\n",
       "      <th>SibSp</th>\n",
       "      <th>Parch</th>\n",
       "      <th>Ticket</th>\n",
       "      <th>Fare</th>\n",
       "      <th>Cabin</th>\n",
       "      <th>Embarked</th>\n",
       "    </tr>\n",
       "  </thead>\n",
       "  <tbody>\n",
       "    <tr>\n",
       "      <th>0</th>\n",
       "      <td>892</td>\n",
       "      <td>3</td>\n",
       "      <td>Kelly, Mr. James</td>\n",
       "      <td>male</td>\n",
       "      <td>34.5</td>\n",
       "      <td>0</td>\n",
       "      <td>0</td>\n",
       "      <td>330911</td>\n",
       "      <td>7.8292</td>\n",
       "      <td>NaN</td>\n",
       "      <td>Q</td>\n",
       "    </tr>\n",
       "    <tr>\n",
       "      <th>1</th>\n",
       "      <td>893</td>\n",
       "      <td>3</td>\n",
       "      <td>Wilkes, Mrs. James (Ellen Needs)</td>\n",
       "      <td>female</td>\n",
       "      <td>47.0</td>\n",
       "      <td>1</td>\n",
       "      <td>0</td>\n",
       "      <td>363272</td>\n",
       "      <td>7.0000</td>\n",
       "      <td>NaN</td>\n",
       "      <td>S</td>\n",
       "    </tr>\n",
       "    <tr>\n",
       "      <th>2</th>\n",
       "      <td>894</td>\n",
       "      <td>2</td>\n",
       "      <td>Myles, Mr. Thomas Francis</td>\n",
       "      <td>male</td>\n",
       "      <td>62.0</td>\n",
       "      <td>0</td>\n",
       "      <td>0</td>\n",
       "      <td>240276</td>\n",
       "      <td>9.6875</td>\n",
       "      <td>NaN</td>\n",
       "      <td>Q</td>\n",
       "    </tr>\n",
       "    <tr>\n",
       "      <th>3</th>\n",
       "      <td>895</td>\n",
       "      <td>3</td>\n",
       "      <td>Wirz, Mr. Albert</td>\n",
       "      <td>male</td>\n",
       "      <td>27.0</td>\n",
       "      <td>0</td>\n",
       "      <td>0</td>\n",
       "      <td>315154</td>\n",
       "      <td>8.6625</td>\n",
       "      <td>NaN</td>\n",
       "      <td>S</td>\n",
       "    </tr>\n",
       "    <tr>\n",
       "      <th>4</th>\n",
       "      <td>896</td>\n",
       "      <td>3</td>\n",
       "      <td>Hirvonen, Mrs. Alexander (Helga E Lindqvist)</td>\n",
       "      <td>female</td>\n",
       "      <td>22.0</td>\n",
       "      <td>1</td>\n",
       "      <td>1</td>\n",
       "      <td>3101298</td>\n",
       "      <td>12.2875</td>\n",
       "      <td>NaN</td>\n",
       "      <td>S</td>\n",
       "    </tr>\n",
       "  </tbody>\n",
       "</table>\n",
       "</div>"
      ],
      "text/plain": [
       "   PassengerId  Pclass                                          Name     Sex  \\\n",
       "0          892       3                              Kelly, Mr. James    male   \n",
       "1          893       3              Wilkes, Mrs. James (Ellen Needs)  female   \n",
       "2          894       2                     Myles, Mr. Thomas Francis    male   \n",
       "3          895       3                              Wirz, Mr. Albert    male   \n",
       "4          896       3  Hirvonen, Mrs. Alexander (Helga E Lindqvist)  female   \n",
       "\n",
       "    Age  SibSp  Parch   Ticket     Fare Cabin Embarked  \n",
       "0  34.5      0      0   330911   7.8292   NaN        Q  \n",
       "1  47.0      1      0   363272   7.0000   NaN        S  \n",
       "2  62.0      0      0   240276   9.6875   NaN        Q  \n",
       "3  27.0      0      0   315154   8.6625   NaN        S  \n",
       "4  22.0      1      1  3101298  12.2875   NaN        S  "
      ]
     },
     "execution_count": 4,
     "metadata": {},
     "output_type": "execute_result"
    }
   ],
   "source": [
    "test_data.head()\n"
   ]
  },
  {
   "cell_type": "code",
   "execution_count": 5,
   "id": "54639694",
   "metadata": {
    "execution": {
     "iopub.execute_input": "2025-07-02T09:41:31.870172Z",
     "iopub.status.busy": "2025-07-02T09:41:31.869851Z",
     "iopub.status.idle": "2025-07-02T09:41:31.882436Z",
     "shell.execute_reply": "2025-07-02T09:41:31.881684Z"
    },
    "papermill": {
     "duration": 0.019689,
     "end_time": "2025-07-02T09:41:31.883911",
     "exception": false,
     "start_time": "2025-07-02T09:41:31.864222",
     "status": "completed"
    },
    "tags": []
   },
   "outputs": [
    {
     "data": {
      "text/html": [
       "<div>\n",
       "<style scoped>\n",
       "    .dataframe tbody tr th:only-of-type {\n",
       "        vertical-align: middle;\n",
       "    }\n",
       "\n",
       "    .dataframe tbody tr th {\n",
       "        vertical-align: top;\n",
       "    }\n",
       "\n",
       "    .dataframe thead th {\n",
       "        text-align: right;\n",
       "    }\n",
       "</style>\n",
       "<table border=\"1\" class=\"dataframe\">\n",
       "  <thead>\n",
       "    <tr style=\"text-align: right;\">\n",
       "      <th></th>\n",
       "      <th>PassengerId</th>\n",
       "      <th>Survived</th>\n",
       "      <th>Pclass</th>\n",
       "      <th>Name</th>\n",
       "      <th>Sex</th>\n",
       "      <th>Age</th>\n",
       "      <th>SibSp</th>\n",
       "      <th>Parch</th>\n",
       "      <th>Ticket</th>\n",
       "      <th>Fare</th>\n",
       "      <th>Cabin</th>\n",
       "      <th>Embarked</th>\n",
       "    </tr>\n",
       "  </thead>\n",
       "  <tbody>\n",
       "    <tr>\n",
       "      <th>0</th>\n",
       "      <td>1</td>\n",
       "      <td>0</td>\n",
       "      <td>3</td>\n",
       "      <td>Braund, Mr. Owen Harris</td>\n",
       "      <td>male</td>\n",
       "      <td>22.0</td>\n",
       "      <td>1</td>\n",
       "      <td>0</td>\n",
       "      <td>A/5 21171</td>\n",
       "      <td>7.2500</td>\n",
       "      <td>NaN</td>\n",
       "      <td>S</td>\n",
       "    </tr>\n",
       "    <tr>\n",
       "      <th>1</th>\n",
       "      <td>2</td>\n",
       "      <td>1</td>\n",
       "      <td>1</td>\n",
       "      <td>Cumings, Mrs. John Bradley (Florence Briggs Th...</td>\n",
       "      <td>female</td>\n",
       "      <td>38.0</td>\n",
       "      <td>1</td>\n",
       "      <td>0</td>\n",
       "      <td>PC 17599</td>\n",
       "      <td>71.2833</td>\n",
       "      <td>C85</td>\n",
       "      <td>C</td>\n",
       "    </tr>\n",
       "    <tr>\n",
       "      <th>2</th>\n",
       "      <td>3</td>\n",
       "      <td>1</td>\n",
       "      <td>3</td>\n",
       "      <td>Heikkinen, Miss. Laina</td>\n",
       "      <td>female</td>\n",
       "      <td>26.0</td>\n",
       "      <td>0</td>\n",
       "      <td>0</td>\n",
       "      <td>STON/O2. 3101282</td>\n",
       "      <td>7.9250</td>\n",
       "      <td>NaN</td>\n",
       "      <td>S</td>\n",
       "    </tr>\n",
       "    <tr>\n",
       "      <th>3</th>\n",
       "      <td>4</td>\n",
       "      <td>1</td>\n",
       "      <td>1</td>\n",
       "      <td>Futrelle, Mrs. Jacques Heath (Lily May Peel)</td>\n",
       "      <td>female</td>\n",
       "      <td>35.0</td>\n",
       "      <td>1</td>\n",
       "      <td>0</td>\n",
       "      <td>113803</td>\n",
       "      <td>53.1000</td>\n",
       "      <td>C123</td>\n",
       "      <td>S</td>\n",
       "    </tr>\n",
       "    <tr>\n",
       "      <th>4</th>\n",
       "      <td>5</td>\n",
       "      <td>0</td>\n",
       "      <td>3</td>\n",
       "      <td>Allen, Mr. William Henry</td>\n",
       "      <td>male</td>\n",
       "      <td>35.0</td>\n",
       "      <td>0</td>\n",
       "      <td>0</td>\n",
       "      <td>373450</td>\n",
       "      <td>8.0500</td>\n",
       "      <td>NaN</td>\n",
       "      <td>S</td>\n",
       "    </tr>\n",
       "  </tbody>\n",
       "</table>\n",
       "</div>"
      ],
      "text/plain": [
       "   PassengerId  Survived  Pclass  \\\n",
       "0            1         0       3   \n",
       "1            2         1       1   \n",
       "2            3         1       3   \n",
       "3            4         1       1   \n",
       "4            5         0       3   \n",
       "\n",
       "                                                Name     Sex   Age  SibSp  \\\n",
       "0                            Braund, Mr. Owen Harris    male  22.0      1   \n",
       "1  Cumings, Mrs. John Bradley (Florence Briggs Th...  female  38.0      1   \n",
       "2                             Heikkinen, Miss. Laina  female  26.0      0   \n",
       "3       Futrelle, Mrs. Jacques Heath (Lily May Peel)  female  35.0      1   \n",
       "4                           Allen, Mr. William Henry    male  35.0      0   \n",
       "\n",
       "   Parch            Ticket     Fare Cabin Embarked  \n",
       "0      0         A/5 21171   7.2500   NaN        S  \n",
       "1      0          PC 17599  71.2833   C85        C  \n",
       "2      0  STON/O2. 3101282   7.9250   NaN        S  \n",
       "3      0            113803  53.1000  C123        S  \n",
       "4      0            373450   8.0500   NaN        S  "
      ]
     },
     "execution_count": 5,
     "metadata": {},
     "output_type": "execute_result"
    }
   ],
   "source": [
    "train_data.head()\n"
   ]
  },
  {
   "cell_type": "code",
   "execution_count": 6,
   "id": "ab9c4ad8",
   "metadata": {
    "execution": {
     "iopub.execute_input": "2025-07-02T09:41:31.895250Z",
     "iopub.status.busy": "2025-07-02T09:41:31.894954Z",
     "iopub.status.idle": "2025-07-02T09:41:31.902025Z",
     "shell.execute_reply": "2025-07-02T09:41:31.901310Z"
    },
    "papermill": {
     "duration": 0.014303,
     "end_time": "2025-07-02T09:41:31.903335",
     "exception": false,
     "start_time": "2025-07-02T09:41:31.889032",
     "status": "completed"
    },
    "tags": []
   },
   "outputs": [
    {
     "data": {
      "text/plain": [
       "Index(['PassengerId', 'Pclass', 'Name', 'Sex', 'Age', 'SibSp', 'Parch',\n",
       "       'Ticket', 'Fare', 'Cabin', 'Embarked'],\n",
       "      dtype='object')"
      ]
     },
     "execution_count": 6,
     "metadata": {},
     "output_type": "execute_result"
    }
   ],
   "source": [
    "test_data.columns"
   ]
  },
  {
   "cell_type": "code",
   "execution_count": 7,
   "id": "5164015c",
   "metadata": {
    "execution": {
     "iopub.execute_input": "2025-07-02T09:41:31.914934Z",
     "iopub.status.busy": "2025-07-02T09:41:31.914616Z",
     "iopub.status.idle": "2025-07-02T09:41:31.923997Z",
     "shell.execute_reply": "2025-07-02T09:41:31.923236Z"
    },
    "papermill": {
     "duration": 0.016921,
     "end_time": "2025-07-02T09:41:31.925377",
     "exception": false,
     "start_time": "2025-07-02T09:41:31.908456",
     "status": "completed"
    },
    "tags": []
   },
   "outputs": [
    {
     "data": {
      "text/plain": [
       "PassengerId      0\n",
       "Survived         0\n",
       "Pclass           0\n",
       "Name             0\n",
       "Sex              0\n",
       "Age            177\n",
       "SibSp            0\n",
       "Parch            0\n",
       "Ticket           0\n",
       "Fare             0\n",
       "Cabin          687\n",
       "Embarked         2\n",
       "dtype: int64"
      ]
     },
     "execution_count": 7,
     "metadata": {},
     "output_type": "execute_result"
    }
   ],
   "source": [
    "train_data.isnull().sum()"
   ]
  },
  {
   "cell_type": "code",
   "execution_count": 8,
   "id": "36663026",
   "metadata": {
    "execution": {
     "iopub.execute_input": "2025-07-02T09:41:31.936954Z",
     "iopub.status.busy": "2025-07-02T09:41:31.936651Z",
     "iopub.status.idle": "2025-07-02T09:41:31.943983Z",
     "shell.execute_reply": "2025-07-02T09:41:31.943188Z"
    },
    "papermill": {
     "duration": 0.014687,
     "end_time": "2025-07-02T09:41:31.945389",
     "exception": false,
     "start_time": "2025-07-02T09:41:31.930702",
     "status": "completed"
    },
    "tags": []
   },
   "outputs": [
    {
     "data": {
      "text/plain": [
       "PassengerId      0\n",
       "Pclass           0\n",
       "Name             0\n",
       "Sex              0\n",
       "Age             86\n",
       "SibSp            0\n",
       "Parch            0\n",
       "Ticket           0\n",
       "Fare             1\n",
       "Cabin          327\n",
       "Embarked         0\n",
       "dtype: int64"
      ]
     },
     "execution_count": 8,
     "metadata": {},
     "output_type": "execute_result"
    }
   ],
   "source": [
    "test_data.isnull().sum()\n"
   ]
  },
  {
   "cell_type": "markdown",
   "id": "e7c33da6",
   "metadata": {
    "papermill": {
     "duration": 0.004803,
     "end_time": "2025-07-02T09:41:31.955601",
     "exception": false,
     "start_time": "2025-07-02T09:41:31.950798",
     "status": "completed"
    },
    "tags": []
   },
   "source": [
    "## 1. DATA PREPROCESSING"
   ]
  },
  {
   "cell_type": "markdown",
   "id": "cd35620f",
   "metadata": {
    "papermill": {
     "duration": 0.004778,
     "end_time": "2025-07-02T09:41:31.965443",
     "exception": false,
     "start_time": "2025-07-02T09:41:31.960665",
     "status": "completed"
    },
    "tags": []
   },
   "source": [
    "#FILL MISSING VALUES"
   ]
  },
  {
   "cell_type": "code",
   "execution_count": 9,
   "id": "ea9e026a",
   "metadata": {
    "execution": {
     "iopub.execute_input": "2025-07-02T09:41:31.977370Z",
     "iopub.status.busy": "2025-07-02T09:41:31.977022Z",
     "iopub.status.idle": "2025-07-02T09:41:31.985028Z",
     "shell.execute_reply": "2025-07-02T09:41:31.984095Z"
    },
    "papermill": {
     "duration": 0.015522,
     "end_time": "2025-07-02T09:41:31.986516",
     "exception": false,
     "start_time": "2025-07-02T09:41:31.970994",
     "status": "completed"
    },
    "tags": []
   },
   "outputs": [
    {
     "name": "stderr",
     "output_type": "stream",
     "text": [
      "/tmp/ipykernel_13/2026805500.py:2: FutureWarning: A value is trying to be set on a copy of a DataFrame or Series through chained assignment using an inplace method.\n",
      "The behavior will change in pandas 3.0. This inplace method will never work because the intermediate object on which we are setting values always behaves as a copy.\n",
      "\n",
      "For example, when doing 'df[col].method(value, inplace=True)', try using 'df.method({col: value}, inplace=True)' or df[col] = df[col].method(value) instead, to perform the operation inplace on the original object.\n",
      "\n",
      "\n",
      "  train_data[\"Age\"].fillna(train_data[\"Age\"].median(), inplace=True)\n",
      "/tmp/ipykernel_13/2026805500.py:3: FutureWarning: A value is trying to be set on a copy of a DataFrame or Series through chained assignment using an inplace method.\n",
      "The behavior will change in pandas 3.0. This inplace method will never work because the intermediate object on which we are setting values always behaves as a copy.\n",
      "\n",
      "For example, when doing 'df[col].method(value, inplace=True)', try using 'df.method({col: value}, inplace=True)' or df[col] = df[col].method(value) instead, to perform the operation inplace on the original object.\n",
      "\n",
      "\n",
      "  test_data[\"Age\"].fillna(train_data[\"Age\"].median(), inplace=True)\n"
     ]
    }
   ],
   "source": [
    "# Fill missing ages with median\n",
    "train_data[\"Age\"].fillna(train_data[\"Age\"].median(), inplace=True)\n",
    "test_data[\"Age\"].fillna(train_data[\"Age\"].median(), inplace=True)"
   ]
  },
  {
   "cell_type": "code",
   "execution_count": 10,
   "id": "336b0b2e",
   "metadata": {
    "execution": {
     "iopub.execute_input": "2025-07-02T09:41:31.998643Z",
     "iopub.status.busy": "2025-07-02T09:41:31.997956Z",
     "iopub.status.idle": "2025-07-02T09:41:32.003756Z",
     "shell.execute_reply": "2025-07-02T09:41:32.002746Z"
    },
    "papermill": {
     "duration": 0.013532,
     "end_time": "2025-07-02T09:41:32.005294",
     "exception": false,
     "start_time": "2025-07-02T09:41:31.991762",
     "status": "completed"
    },
    "tags": []
   },
   "outputs": [
    {
     "name": "stderr",
     "output_type": "stream",
     "text": [
      "/tmp/ipykernel_13/2378955651.py:2: FutureWarning: A value is trying to be set on a copy of a DataFrame or Series through chained assignment using an inplace method.\n",
      "The behavior will change in pandas 3.0. This inplace method will never work because the intermediate object on which we are setting values always behaves as a copy.\n",
      "\n",
      "For example, when doing 'df[col].method(value, inplace=True)', try using 'df.method({col: value}, inplace=True)' or df[col] = df[col].method(value) instead, to perform the operation inplace on the original object.\n",
      "\n",
      "\n",
      "  test_data[\"Fare\"].fillna(test_data[\"Fare\"].median(), inplace=True)\n"
     ]
    }
   ],
   "source": [
    "# Fill missing fares\n",
    "test_data[\"Fare\"].fillna(test_data[\"Fare\"].median(), inplace=True)"
   ]
  },
  {
   "cell_type": "code",
   "execution_count": 11,
   "id": "fd34cac6",
   "metadata": {
    "execution": {
     "iopub.execute_input": "2025-07-02T09:41:32.017371Z",
     "iopub.status.busy": "2025-07-02T09:41:32.017016Z",
     "iopub.status.idle": "2025-07-02T09:41:32.024684Z",
     "shell.execute_reply": "2025-07-02T09:41:32.023700Z"
    },
    "papermill": {
     "duration": 0.015582,
     "end_time": "2025-07-02T09:41:32.026332",
     "exception": false,
     "start_time": "2025-07-02T09:41:32.010750",
     "status": "completed"
    },
    "tags": []
   },
   "outputs": [
    {
     "name": "stderr",
     "output_type": "stream",
     "text": [
      "/tmp/ipykernel_13/3847382861.py:1: FutureWarning: A value is trying to be set on a copy of a DataFrame or Series through chained assignment using an inplace method.\n",
      "The behavior will change in pandas 3.0. This inplace method will never work because the intermediate object on which we are setting values always behaves as a copy.\n",
      "\n",
      "For example, when doing 'df[col].method(value, inplace=True)', try using 'df.method({col: value}, inplace=True)' or df[col] = df[col].method(value) instead, to perform the operation inplace on the original object.\n",
      "\n",
      "\n",
      "  train_data[\"Embarked\"].fillna(train_data[\"Embarked\"].mode()[0],inplace=True)\n"
     ]
    }
   ],
   "source": [
    "train_data[\"Embarked\"].fillna(train_data[\"Embarked\"].mode()[0],inplace=True)"
   ]
  },
  {
   "cell_type": "markdown",
   "id": "f97b8286",
   "metadata": {
    "papermill": {
     "duration": 0.005118,
     "end_time": "2025-07-02T09:41:32.036935",
     "exception": false,
     "start_time": "2025-07-02T09:41:32.031817",
     "status": "completed"
    },
    "tags": []
   },
   "source": [
    "No need to fill cabing null values, as it isnot gonna be checked for predictions"
   ]
  },
  {
   "cell_type": "markdown",
   "id": "76d06600",
   "metadata": {
    "papermill": {
     "duration": 0.007101,
     "end_time": "2025-07-02T09:41:32.049195",
     "exception": false,
     "start_time": "2025-07-02T09:41:32.042094",
     "status": "completed"
    },
    "tags": []
   },
   "source": [
    "# 1.2 Convert categorical variables"
   ]
  },
  {
   "cell_type": "code",
   "execution_count": 12,
   "id": "30646b3b",
   "metadata": {
    "execution": {
     "iopub.execute_input": "2025-07-02T09:41:32.061435Z",
     "iopub.status.busy": "2025-07-02T09:41:32.060672Z",
     "iopub.status.idle": "2025-07-02T09:41:32.078704Z",
     "shell.execute_reply": "2025-07-02T09:41:32.077963Z"
    },
    "papermill": {
     "duration": 0.02576,
     "end_time": "2025-07-02T09:41:32.080224",
     "exception": false,
     "start_time": "2025-07-02T09:41:32.054464",
     "status": "completed"
    },
    "tags": []
   },
   "outputs": [],
   "source": [
    "#This line converts categorical columns (\"Sex\" and \"Embarked\") into numeric format \n",
    "#using one-hot encoding, which is required for machine learning models.\n",
    "train_data = pd.get_dummies(train_data, columns=[\"Sex\", \"Embarked\"], drop_first=True)\n",
    "test_data = pd.get_dummies(test_data, columns=[\"Sex\", \"Embarked\"], drop_first=True)\n",
    "#see the dataset (true false)--if we want 0 and 1 above at the end put .astype(int)                     "
   ]
  },
  {
   "cell_type": "markdown",
   "id": "cff23996",
   "metadata": {
    "papermill": {
     "duration": 0.006137,
     "end_time": "2025-07-02T09:41:32.092380",
     "exception": false,
     "start_time": "2025-07-02T09:41:32.086243",
     "status": "completed"
    },
    "tags": []
   },
   "source": [
    "## 2. DEFINE FEATURES and labels"
   ]
  },
  {
   "cell_type": "code",
   "execution_count": 13,
   "id": "597d6691",
   "metadata": {
    "execution": {
     "iopub.execute_input": "2025-07-02T09:41:32.104641Z",
     "iopub.status.busy": "2025-07-02T09:41:32.103891Z",
     "iopub.status.idle": "2025-07-02T09:41:32.111644Z",
     "shell.execute_reply": "2025-07-02T09:41:32.110843Z"
    },
    "papermill": {
     "duration": 0.015206,
     "end_time": "2025-07-02T09:41:32.112938",
     "exception": false,
     "start_time": "2025-07-02T09:41:32.097732",
     "status": "completed"
    },
    "tags": []
   },
   "outputs": [],
   "source": [
    "features = [\"Pclass\", \"Age\", \"SibSp\", \"Parch\", \"Fare\", \"Sex_male\", \"Embarked_Q\", \"Embarked_S\"]\n",
    "\n",
    "X = train_data[features]\n",
    "y = train_data[\"Survived\"]\n",
    "X_test = test_data[features]\n"
   ]
  },
  {
   "cell_type": "markdown",
   "id": "227c96a7",
   "metadata": {
    "papermill": {
     "duration": 0.004934,
     "end_time": "2025-07-02T09:41:32.123219",
     "exception": false,
     "start_time": "2025-07-02T09:41:32.118285",
     "status": "completed"
    },
    "tags": []
   },
   "source": [
    "## 3. FIT THE MODEL"
   ]
  },
  {
   "cell_type": "code",
   "execution_count": 14,
   "id": "ecfed31e",
   "metadata": {
    "execution": {
     "iopub.execute_input": "2025-07-02T09:41:32.135556Z",
     "iopub.status.busy": "2025-07-02T09:41:32.134738Z",
     "iopub.status.idle": "2025-07-02T09:41:33.968638Z",
     "shell.execute_reply": "2025-07-02T09:41:33.967722Z"
    },
    "papermill": {
     "duration": 1.841638,
     "end_time": "2025-07-02T09:41:33.970104",
     "exception": false,
     "start_time": "2025-07-02T09:41:32.128466",
     "status": "completed"
    },
    "tags": []
   },
   "outputs": [
    {
     "data": {
      "text/html": [
       "<style>#sk-container-id-1 {color: black;background-color: white;}#sk-container-id-1 pre{padding: 0;}#sk-container-id-1 div.sk-toggleable {background-color: white;}#sk-container-id-1 label.sk-toggleable__label {cursor: pointer;display: block;width: 100%;margin-bottom: 0;padding: 0.3em;box-sizing: border-box;text-align: center;}#sk-container-id-1 label.sk-toggleable__label-arrow:before {content: \"▸\";float: left;margin-right: 0.25em;color: #696969;}#sk-container-id-1 label.sk-toggleable__label-arrow:hover:before {color: black;}#sk-container-id-1 div.sk-estimator:hover label.sk-toggleable__label-arrow:before {color: black;}#sk-container-id-1 div.sk-toggleable__content {max-height: 0;max-width: 0;overflow: hidden;text-align: left;background-color: #f0f8ff;}#sk-container-id-1 div.sk-toggleable__content pre {margin: 0.2em;color: black;border-radius: 0.25em;background-color: #f0f8ff;}#sk-container-id-1 input.sk-toggleable__control:checked~div.sk-toggleable__content {max-height: 200px;max-width: 100%;overflow: auto;}#sk-container-id-1 input.sk-toggleable__control:checked~label.sk-toggleable__label-arrow:before {content: \"▾\";}#sk-container-id-1 div.sk-estimator input.sk-toggleable__control:checked~label.sk-toggleable__label {background-color: #d4ebff;}#sk-container-id-1 div.sk-label input.sk-toggleable__control:checked~label.sk-toggleable__label {background-color: #d4ebff;}#sk-container-id-1 input.sk-hidden--visually {border: 0;clip: rect(1px 1px 1px 1px);clip: rect(1px, 1px, 1px, 1px);height: 1px;margin: -1px;overflow: hidden;padding: 0;position: absolute;width: 1px;}#sk-container-id-1 div.sk-estimator {font-family: monospace;background-color: #f0f8ff;border: 1px dotted black;border-radius: 0.25em;box-sizing: border-box;margin-bottom: 0.5em;}#sk-container-id-1 div.sk-estimator:hover {background-color: #d4ebff;}#sk-container-id-1 div.sk-parallel-item::after {content: \"\";width: 100%;border-bottom: 1px solid gray;flex-grow: 1;}#sk-container-id-1 div.sk-label:hover label.sk-toggleable__label {background-color: #d4ebff;}#sk-container-id-1 div.sk-serial::before {content: \"\";position: absolute;border-left: 1px solid gray;box-sizing: border-box;top: 0;bottom: 0;left: 50%;z-index: 0;}#sk-container-id-1 div.sk-serial {display: flex;flex-direction: column;align-items: center;background-color: white;padding-right: 0.2em;padding-left: 0.2em;position: relative;}#sk-container-id-1 div.sk-item {position: relative;z-index: 1;}#sk-container-id-1 div.sk-parallel {display: flex;align-items: stretch;justify-content: center;background-color: white;position: relative;}#sk-container-id-1 div.sk-item::before, #sk-container-id-1 div.sk-parallel-item::before {content: \"\";position: absolute;border-left: 1px solid gray;box-sizing: border-box;top: 0;bottom: 0;left: 50%;z-index: -1;}#sk-container-id-1 div.sk-parallel-item {display: flex;flex-direction: column;z-index: 1;position: relative;background-color: white;}#sk-container-id-1 div.sk-parallel-item:first-child::after {align-self: flex-end;width: 50%;}#sk-container-id-1 div.sk-parallel-item:last-child::after {align-self: flex-start;width: 50%;}#sk-container-id-1 div.sk-parallel-item:only-child::after {width: 0;}#sk-container-id-1 div.sk-dashed-wrapped {border: 1px dashed gray;margin: 0 0.4em 0.5em 0.4em;box-sizing: border-box;padding-bottom: 0.4em;background-color: white;}#sk-container-id-1 div.sk-label label {font-family: monospace;font-weight: bold;display: inline-block;line-height: 1.2em;}#sk-container-id-1 div.sk-label-container {text-align: center;}#sk-container-id-1 div.sk-container {/* jupyter's `normalize.less` sets `[hidden] { display: none; }` but bootstrap.min.css set `[hidden] { display: none !important; }` so we also need the `!important` here to be able to override the default hidden behavior on the sphinx rendered scikit-learn.org. See: https://github.com/scikit-learn/scikit-learn/issues/21755 */display: inline-block !important;position: relative;}#sk-container-id-1 div.sk-text-repr-fallback {display: none;}</style><div id=\"sk-container-id-1\" class=\"sk-top-container\"><div class=\"sk-text-repr-fallback\"><pre>DecisionTreeClassifier(max_depth=5, random_state=42)</pre><b>In a Jupyter environment, please rerun this cell to show the HTML representation or trust the notebook. <br />On GitHub, the HTML representation is unable to render, please try loading this page with nbviewer.org.</b></div><div class=\"sk-container\" hidden><div class=\"sk-item\"><div class=\"sk-estimator sk-toggleable\"><input class=\"sk-toggleable__control sk-hidden--visually\" id=\"sk-estimator-id-1\" type=\"checkbox\" checked><label for=\"sk-estimator-id-1\" class=\"sk-toggleable__label sk-toggleable__label-arrow\">DecisionTreeClassifier</label><div class=\"sk-toggleable__content\"><pre>DecisionTreeClassifier(max_depth=5, random_state=42)</pre></div></div></div></div></div>"
      ],
      "text/plain": [
       "DecisionTreeClassifier(max_depth=5, random_state=42)"
      ]
     },
     "execution_count": 14,
     "metadata": {},
     "output_type": "execute_result"
    }
   ],
   "source": [
    "from sklearn.tree import DecisionTreeClassifier\n",
    "model = DecisionTreeClassifier(max_depth=5, random_state=42)\n",
    "model.fit(X, y)\n"
   ]
  },
  {
   "cell_type": "markdown",
   "id": "07f9bca7",
   "metadata": {
    "papermill": {
     "duration": 0.005213,
     "end_time": "2025-07-02T09:41:33.981049",
     "exception": false,
     "start_time": "2025-07-02T09:41:33.975836",
     "status": "completed"
    },
    "tags": []
   },
   "source": [
    "## 4. MAKE PREDICTIONS"
   ]
  },
  {
   "cell_type": "code",
   "execution_count": 15,
   "id": "0318d8dc",
   "metadata": {
    "execution": {
     "iopub.execute_input": "2025-07-02T09:41:33.993246Z",
     "iopub.status.busy": "2025-07-02T09:41:33.992789Z",
     "iopub.status.idle": "2025-07-02T09:41:33.999620Z",
     "shell.execute_reply": "2025-07-02T09:41:33.998816Z"
    },
    "papermill": {
     "duration": 0.01473,
     "end_time": "2025-07-02T09:41:34.001126",
     "exception": false,
     "start_time": "2025-07-02T09:41:33.986396",
     "status": "completed"
    },
    "tags": []
   },
   "outputs": [],
   "source": [
    "predictions = model.predict(X_test)"
   ]
  },
  {
   "cell_type": "markdown",
   "id": "b457592c",
   "metadata": {
    "papermill": {
     "duration": 0.005198,
     "end_time": "2025-07-02T09:41:34.011990",
     "exception": false,
     "start_time": "2025-07-02T09:41:34.006792",
     "status": "completed"
    },
    "tags": []
   },
   "source": [
    "## 5. CREATING SUBMISSION FILE"
   ]
  },
  {
   "cell_type": "code",
   "execution_count": 16,
   "id": "ce8f4980",
   "metadata": {
    "execution": {
     "iopub.execute_input": "2025-07-02T09:41:34.024430Z",
     "iopub.status.busy": "2025-07-02T09:41:34.023724Z",
     "iopub.status.idle": "2025-07-02T09:41:34.034878Z",
     "shell.execute_reply": "2025-07-02T09:41:34.033954Z"
    },
    "papermill": {
     "duration": 0.019135,
     "end_time": "2025-07-02T09:41:34.036504",
     "exception": false,
     "start_time": "2025-07-02T09:41:34.017369",
     "status": "completed"
    },
    "tags": []
   },
   "outputs": [
    {
     "name": "stdout",
     "output_type": "stream",
     "text": [
      "Submission file created!\n"
     ]
    }
   ],
   "source": [
    "output = pd.DataFrame({\n",
    "    \"PassengerId\": test_data[\"PassengerId\"],\n",
    "    \"Survived\": predictions\n",
    "})\n",
    "\n",
    "output.to_csv(\"submission.csv\", index=False)\n",
    "print(\"Submission file created!\")\n"
   ]
  },
  {
   "cell_type": "markdown",
   "id": "b6557d36",
   "metadata": {
    "papermill": {
     "duration": 0.005843,
     "end_time": "2025-07-02T09:41:34.048033",
     "exception": false,
     "start_time": "2025-07-02T09:41:34.042190",
     "status": "completed"
    },
    "tags": []
   },
   "source": [
    "## That's done, but what if you want to check the accuracy yourself? - we have to use traiun_test_split"
   ]
  },
  {
   "cell_type": "code",
   "execution_count": 17,
   "id": "8c154a4d",
   "metadata": {
    "execution": {
     "iopub.execute_input": "2025-07-02T09:41:34.060590Z",
     "iopub.status.busy": "2025-07-02T09:41:34.060217Z",
     "iopub.status.idle": "2025-07-02T09:41:34.083510Z",
     "shell.execute_reply": "2025-07-02T09:41:34.082568Z"
    },
    "papermill": {
     "duration": 0.031457,
     "end_time": "2025-07-02T09:41:34.085226",
     "exception": false,
     "start_time": "2025-07-02T09:41:34.053769",
     "status": "completed"
    },
    "tags": []
   },
   "outputs": [
    {
     "name": "stdout",
     "output_type": "stream",
     "text": [
      "Accuracy: 0.7988826815642458\n",
      "\n",
      "Classification Report:\n",
      "               precision    recall  f1-score   support\n",
      "\n",
      "           0       0.79      0.90      0.84       105\n",
      "           1       0.83      0.65      0.73        74\n",
      "\n",
      "    accuracy                           0.80       179\n",
      "   macro avg       0.81      0.78      0.78       179\n",
      "weighted avg       0.80      0.80      0.79       179\n",
      "\n"
     ]
    }
   ],
   "source": [
    "from sklearn.model_selection import train_test_split\n",
    "from sklearn.metrics import accuracy_score, classification_report\n",
    "\n",
    "# Use same features\n",
    "X = train_data[features]\n",
    "y = train_data[\"Survived\"]\n",
    "\n",
    "# Split data (80% train, 20% validation)\n",
    "X_train, X_val, y_train, y_val = train_test_split(\n",
    "    X, y, test_size=0.2, random_state=42)\n",
    "\n",
    "# Train Decision Tree\n",
    "model = DecisionTreeClassifier(max_depth=5, random_state=42)\n",
    "model.fit(X_train, y_train)\n",
    "\n",
    "# Predict on validation set\n",
    "val_predictions = model.predict(X_val)\n",
    "\n",
    "# Evaluate\n",
    "print(\"Accuracy:\", accuracy_score(y_val, val_predictions))\n",
    "print(\"\\nClassification Report:\\n\", classification_report(y_val, val_predictions))\n"
   ]
  },
  {
   "cell_type": "code",
   "execution_count": 18,
   "id": "e61338a2",
   "metadata": {
    "execution": {
     "iopub.execute_input": "2025-07-02T09:41:34.098371Z",
     "iopub.status.busy": "2025-07-02T09:41:34.097700Z",
     "iopub.status.idle": "2025-07-02T09:41:34.398274Z",
     "shell.execute_reply": "2025-07-02T09:41:34.397335Z"
    },
    "papermill": {
     "duration": 0.308835,
     "end_time": "2025-07-02T09:41:34.399804",
     "exception": false,
     "start_time": "2025-07-02T09:41:34.090969",
     "status": "completed"
    },
    "tags": []
   },
   "outputs": [
    {
     "data": {
      "image/png": "[encoded data removed]",
      "text/plain": [
       "<Figure size 640x480 with 2 Axes>"
      ]
     },
     "metadata": {},
     "output_type": "display_data"
    }
   ],
   "source": [
    "import matplotlib.pyplot as plt\n",
    "from sklearn.metrics import confusion_matrix, ConfusionMatrixDisplay\n",
    "\n",
    "# Get the confusion matrix\n",
    "cm = confusion_matrix(y_val, val_predictions)\n",
    "\n",
    "# Display the matrix as a nice plot\n",
    "disp = ConfusionMatrixDisplay(confusion_matrix=cm, display_labels=[\"Died (0)\", \"Survived (1)\"])\n",
    "disp.plot(cmap=plt.cm.Blues)\n",
    "plt.title(\"Confusion Matrix - Titanic Decision Tree\")\n",
    "plt.show()\n"
   ]
  },
  {
   "cell_type": "markdown",
   "id": "0ff80af3",
   "metadata": {
    "papermill": {
     "duration": 0.005879,
     "end_time": "2025-07-02T09:41:34.412398",
     "exception": false,
     "start_time": "2025-07-02T09:41:34.406519",
     "status": "completed"
    },
    "tags": []
   },
   "source": [
    "## WE HAVE SUCCESSFULLY DONE FOR DECISION TREE CLASSIFIER !"
   ]
  },
  {
   "cell_type": "code",
   "execution_count": null,
   "id": "619bd241",
   "metadata": {
    "papermill": {
     "duration": 0.005729,
     "end_time": "2025-07-02T09:41:34.424191",
     "exception": false,
     "start_time": "2025-07-02T09:41:34.418462",
     "status": "completed"
    },
    "tags": []
   },
   "outputs": [],
   "source": []
  }
 ],
 "metadata": {
  "kaggle": {
   "accelerator": "none",
   "dataSources": [
    {
     "databundleVersionId": 26502,
     "sourceId": 3136,
     "sourceType": "competition"
    }
   ],
   "dockerImageVersionId": 31040,
   "isGpuEnabled": false,
   "isInternetEnabled": false,
   "language": "python",
   "sourceType": "notebook"
  },
  "kernelspec": {
   "display_name": "Python 3",
   "language": "python",
   "name": "python3"
  },
  "language_info": {
   "codemirror_mode": {
    "name": "ipython",
    "version": 3
   },
   "file_extension": ".py",
   "mimetype": "text/x-python",
   "name": "python",
   "nbconvert_exporter": "python",
   "pygments_lexer": "ipython3",
   "version": "3.11.11"
  },
  "papermill": {
   "default_parameters": {},
   "duration": 9.974983,
   "end_time": "2025-07-02T09:41:35.150875",
   "environment_variables": {},
   "exception": null,
   "input_path": "__notebook__.ipynb",
   "output_path": "__notebook__.ipynb",
   "parameters": {},
   "start_time": "2025-07-02T09:41:25.175892",
   "version": "2.6.0"
  }
 },
 "nbformat": 4,
 "nbformat_minor": 5
}
