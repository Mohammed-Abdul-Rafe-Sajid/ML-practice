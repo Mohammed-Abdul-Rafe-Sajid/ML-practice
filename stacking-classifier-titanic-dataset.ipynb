{
 "cells": [
  {
   "cell_type": "code",
   "execution_count": 1,
   "id": "19abea2b",
   "metadata": {
    "_cell_guid": "b1076dfc-b9ad-4769-8c92-a6c4dae69d19",
    "_uuid": "8f2839f25d086af736a60e9eeb907d3b93b6e0e5",
    "execution": {
     "iopub.execute_input": "2025-07-03T12:44:51.275123Z",
     "iopub.status.busy": "2025-07-03T12:44:51.274753Z",
     "iopub.status.idle": "2025-07-03T12:44:53.164187Z",
     "shell.execute_reply": "2025-07-03T12:44:53.162917Z"
    },
    "papermill": {
     "duration": 1.895529,
     "end_time": "2025-07-03T12:44:53.165631",
     "exception": false,
     "start_time": "2025-07-03T12:44:51.270102",
     "status": "completed"
    },
    "tags": []
   },
   "outputs": [
    {
     "name": "stdout",
     "output_type": "stream",
     "text": [
      "/kaggle/input/titanic/train.csv\n",
      "/kaggle/input/titanic/test.csv\n",
      "/kaggle/input/titanic/gender_submission.csv\n"
     ]
    }
   ],
   "source": [
    "# This Python 3 environment comes with many helpful analytics libraries installed\n",
    "# It is defined by the kaggle/python Docker image: https://github.com/kaggle/docker-python\n",
    "# For example, here's several helpful packages to load\n",
    "\n",
    "import numpy as np # linear algebra\n",
    "import pandas as pd # data processing, CSV file I/O (e.g. pd.read_csv)\n",
    "\n",
    "# Input data files are available in the read-only \"../input/\" directory\n",
    "# For example, running this (by clicking run or pressing Shift+Enter) will list all files under the input directory\n",
    "\n",
    "import os\n",
    "for dirname, _, filenames in os.walk('/kaggle/input'):\n",
    "    for filename in filenames:\n",
    "        print(os.path.join(dirname, filename))\n",
    "\n",
    "# You can write up to 20GB to the current directory (/kaggle/working/) that gets preserved as output when you create a version using \"Save & Run All\" \n",
    "# You can also write temporary files to /kaggle/temp/, but they won't be saved outside of the current session"
   ]
  },
  {
   "cell_type": "markdown",
   "id": "f27a7c58",
   "metadata": {
    "papermill": {
     "duration": 0.002769,
     "end_time": "2025-07-03T12:44:53.171934",
     "exception": false,
     "start_time": "2025-07-03T12:44:53.169165",
     "status": "completed"
    },
    "tags": []
   },
   "source": [
    "# What is Stacking?\n",
    "Stacking combines predictions from multiple different models (e.g., Logistic, Random Forest, XGBoost) and feeds them into a meta-model that learns how to best combine them.\n",
    "\n",
    "Each base model makes predictions.\n",
    "\n",
    "The meta-model (often Logistic Regression) takes those predictions as inputs and learns how to weigh them.\n",
    "\n",
    "It often performs better than any individual model!"
   ]
  },
  {
   "cell_type": "markdown",
   "id": "b0f05291",
   "metadata": {
    "papermill": {
     "duration": 0.002853,
     "end_time": "2025-07-03T12:44:53.177668",
     "exception": false,
     "start_time": "2025-07-03T12:44:53.174815",
     "status": "completed"
    },
    "tags": []
   },
   "source": [
    "# What We’ll Use:\n",
    "Base models: Logistic Regression, Random Forest, Gradient Boosting\n",
    "\n",
    "Meta-model: Logistic Regression\n",
    "\n",
    "Library: sklearn.ensemble.StackingClassifier"
   ]
  },
  {
   "cell_type": "code",
   "execution_count": 2,
   "id": "e012c40d",
   "metadata": {
    "execution": {
     "iopub.execute_input": "2025-07-03T12:44:53.184822Z",
     "iopub.status.busy": "2025-07-03T12:44:53.184413Z",
     "iopub.status.idle": "2025-07-03T12:44:55.195671Z",
     "shell.execute_reply": "2025-07-03T12:44:55.194710Z"
    },
    "papermill": {
     "duration": 2.016963,
     "end_time": "2025-07-03T12:44:55.197509",
     "exception": false,
     "start_time": "2025-07-03T12:44:53.180546",
     "status": "completed"
    },
    "tags": []
   },
   "outputs": [],
   "source": [
    "import pandas as pd\n",
    "import numpy as np\n",
    "from sklearn.ensemble import RandomForestClassifier, GradientBoostingClassifier, StackingClassifier\n",
    "from sklearn.linear_model import LogisticRegression\n",
    "from sklearn.svm import SVC\n",
    "from sklearn.model_selection import train_test_split\n",
    "from sklearn.preprocessing import StandardScaler\n",
    "from sklearn.metrics import accuracy_score, classification_report, confusion_matrix, ConfusionMatrixDisplay\n"
   ]
  },
  {
   "cell_type": "code",
   "execution_count": 3,
   "id": "1feeb4a0",
   "metadata": {
    "execution": {
     "iopub.execute_input": "2025-07-03T12:44:55.205444Z",
     "iopub.status.busy": "2025-07-03T12:44:55.204496Z",
     "iopub.status.idle": "2025-07-03T12:44:55.234232Z",
     "shell.execute_reply": "2025-07-03T12:44:55.233404Z"
    },
    "papermill": {
     "duration": 0.035226,
     "end_time": "2025-07-03T12:44:55.235784",
     "exception": false,
     "start_time": "2025-07-03T12:44:55.200558",
     "status": "completed"
    },
    "tags": []
   },
   "outputs": [],
   "source": [
    "train = pd.read_csv(\"/kaggle/input/titanic/train.csv\")\n",
    "test = pd.read_csv(\"/kaggle/input/titanic/test.csv\")\n"
   ]
  },
  {
   "cell_type": "code",
   "execution_count": 4,
   "id": "1aa20361",
   "metadata": {
    "execution": {
     "iopub.execute_input": "2025-07-03T12:44:55.243432Z",
     "iopub.status.busy": "2025-07-03T12:44:55.242688Z",
     "iopub.status.idle": "2025-07-03T12:44:55.277520Z",
     "shell.execute_reply": "2025-07-03T12:44:55.276596Z"
    },
    "papermill": {
     "duration": 0.040239,
     "end_time": "2025-07-03T12:44:55.279085",
     "exception": false,
     "start_time": "2025-07-03T12:44:55.238846",
     "status": "completed"
    },
    "tags": []
   },
   "outputs": [
    {
     "name": "stderr",
     "output_type": "stream",
     "text": [
      "/tmp/ipykernel_13/2400371035.py:2: FutureWarning: A value is trying to be set on a copy of a DataFrame or Series through chained assignment using an inplace method.\n",
      "The behavior will change in pandas 3.0. This inplace method will never work because the intermediate object on which we are setting values always behaves as a copy.\n",
      "\n",
      "For example, when doing 'df[col].method(value, inplace=True)', try using 'df.method({col: value}, inplace=True)' or df[col] = df[col].method(value) instead, to perform the operation inplace on the original object.\n",
      "\n",
      "\n",
      "  train[\"Age\"].fillna(train[\"Age\"].median(), inplace=True)\n",
      "/tmp/ipykernel_13/2400371035.py:3: FutureWarning: A value is trying to be set on a copy of a DataFrame or Series through chained assignment using an inplace method.\n",
      "The behavior will change in pandas 3.0. This inplace method will never work because the intermediate object on which we are setting values always behaves as a copy.\n",
      "\n",
      "For example, when doing 'df[col].method(value, inplace=True)', try using 'df.method({col: value}, inplace=True)' or df[col] = df[col].method(value) instead, to perform the operation inplace on the original object.\n",
      "\n",
      "\n",
      "  test[\"Age\"].fillna(train[\"Age\"].median(), inplace=True)\n",
      "/tmp/ipykernel_13/2400371035.py:5: FutureWarning: A value is trying to be set on a copy of a DataFrame or Series through chained assignment using an inplace method.\n",
      "The behavior will change in pandas 3.0. This inplace method will never work because the intermediate object on which we are setting values always behaves as a copy.\n",
      "\n",
      "For example, when doing 'df[col].method(value, inplace=True)', try using 'df.method({col: value}, inplace=True)' or df[col] = df[col].method(value) instead, to perform the operation inplace on the original object.\n",
      "\n",
      "\n",
      "  train[\"Embarked\"].fillna(train[\"Embarked\"].mode()[0], inplace=True)\n",
      "/tmp/ipykernel_13/2400371035.py:6: FutureWarning: A value is trying to be set on a copy of a DataFrame or Series through chained assignment using an inplace method.\n",
      "The behavior will change in pandas 3.0. This inplace method will never work because the intermediate object on which we are setting values always behaves as a copy.\n",
      "\n",
      "For example, when doing 'df[col].method(value, inplace=True)', try using 'df.method({col: value}, inplace=True)' or df[col] = df[col].method(value) instead, to perform the operation inplace on the original object.\n",
      "\n",
      "\n",
      "  test[\"Embarked\"].fillna(train[\"Embarked\"].mode()[0], inplace=True)\n",
      "/tmp/ipykernel_13/2400371035.py:8: FutureWarning: A value is trying to be set on a copy of a DataFrame or Series through chained assignment using an inplace method.\n",
      "The behavior will change in pandas 3.0. This inplace method will never work because the intermediate object on which we are setting values always behaves as a copy.\n",
      "\n",
      "For example, when doing 'df[col].method(value, inplace=True)', try using 'df.method({col: value}, inplace=True)' or df[col] = df[col].method(value) instead, to perform the operation inplace on the original object.\n",
      "\n",
      "\n",
      "  test[\"Fare\"].fillna(test[\"Fare\"].median(), inplace=True)\n"
     ]
    }
   ],
   "source": [
    "# Fill missing values\n",
    "train[\"Age\"].fillna(train[\"Age\"].median(), inplace=True)\n",
    "test[\"Age\"].fillna(train[\"Age\"].median(), inplace=True)\n",
    "\n",
    "train[\"Embarked\"].fillna(train[\"Embarked\"].mode()[0], inplace=True)\n",
    "test[\"Embarked\"].fillna(train[\"Embarked\"].mode()[0], inplace=True)\n",
    "\n",
    "test[\"Fare\"].fillna(test[\"Fare\"].median(), inplace=True)\n",
    "\n",
    "# New features\n",
    "train[\"FamilySize\"] = train[\"SibSp\"] + train[\"Parch\"] + 1\n",
    "test[\"FamilySize\"] = test[\"SibSp\"] + test[\"Parch\"] + 1\n",
    "\n",
    "train[\"IsAlone\"] = (train[\"FamilySize\"] == 1).astype(int)\n",
    "test[\"IsAlone\"] = (test[\"FamilySize\"] == 1).astype(int)\n",
    "\n",
    "# One-hot encoding\n",
    "train = pd.get_dummies(train, columns=[\"Sex\", \"Embarked\"], drop_first=True)\n",
    "test = pd.get_dummies(test, columns=[\"Sex\", \"Embarked\"], drop_first=True)\n"
   ]
  },
  {
   "cell_type": "code",
   "execution_count": 5,
   "id": "94034d6c",
   "metadata": {
    "execution": {
     "iopub.execute_input": "2025-07-03T12:44:55.286538Z",
     "iopub.status.busy": "2025-07-03T12:44:55.286216Z",
     "iopub.status.idle": "2025-07-03T12:44:55.294688Z",
     "shell.execute_reply": "2025-07-03T12:44:55.293988Z"
    },
    "papermill": {
     "duration": 0.01398,
     "end_time": "2025-07-03T12:44:55.296251",
     "exception": false,
     "start_time": "2025-07-03T12:44:55.282271",
     "status": "completed"
    },
    "tags": []
   },
   "outputs": [],
   "source": [
    "features = [\"Pclass\", \"Age\", \"Fare\", \"FamilySize\", \"IsAlone\", \"Sex_male\", \"Embarked_Q\", \"Embarked_S\"]\n",
    "X = train[features]\n",
    "y = train[\"Survived\"]\n",
    "X_test_final = test[features]\n"
   ]
  },
  {
   "cell_type": "code",
   "execution_count": 6,
   "id": "384c4a2e",
   "metadata": {
    "execution": {
     "iopub.execute_input": "2025-07-03T12:44:55.303428Z",
     "iopub.status.busy": "2025-07-03T12:44:55.303109Z",
     "iopub.status.idle": "2025-07-03T12:44:55.314465Z",
     "shell.execute_reply": "2025-07-03T12:44:55.313179Z"
    },
    "papermill": {
     "duration": 0.016721,
     "end_time": "2025-07-03T12:44:55.316009",
     "exception": false,
     "start_time": "2025-07-03T12:44:55.299288",
     "status": "completed"
    },
    "tags": []
   },
   "outputs": [],
   "source": [
    "scaler = StandardScaler()\n",
    "X_scaled = scaler.fit_transform(X)\n",
    "X_test_scaled = scaler.transform(X_test_final)\n"
   ]
  },
  {
   "cell_type": "code",
   "execution_count": 7,
   "id": "9caee298",
   "metadata": {
    "execution": {
     "iopub.execute_input": "2025-07-03T12:44:55.323329Z",
     "iopub.status.busy": "2025-07-03T12:44:55.323017Z",
     "iopub.status.idle": "2025-07-03T12:44:55.329265Z",
     "shell.execute_reply": "2025-07-03T12:44:55.328401Z"
    },
    "papermill": {
     "duration": 0.011608,
     "end_time": "2025-07-03T12:44:55.330787",
     "exception": false,
     "start_time": "2025-07-03T12:44:55.319179",
     "status": "completed"
    },
    "tags": []
   },
   "outputs": [],
   "source": [
    "X_train, X_val, y_train, y_val = train_test_split(X_scaled, y, test_size=0.2, random_state=42)\n"
   ]
  },
  {
   "cell_type": "code",
   "execution_count": 8,
   "id": "66b53ae5",
   "metadata": {
    "execution": {
     "iopub.execute_input": "2025-07-03T12:44:55.337907Z",
     "iopub.status.busy": "2025-07-03T12:44:55.337604Z",
     "iopub.status.idle": "2025-07-03T12:44:57.520428Z",
     "shell.execute_reply": "2025-07-03T12:44:57.519617Z"
    },
    "papermill": {
     "duration": 2.18859,
     "end_time": "2025-07-03T12:44:57.522417",
     "exception": false,
     "start_time": "2025-07-03T12:44:55.333827",
     "status": "completed"
    },
    "tags": []
   },
   "outputs": [
    {
     "data": {
      "text/html": [
       "<style>#sk-container-id-1 {color: black;background-color: white;}#sk-container-id-1 pre{padding: 0;}#sk-container-id-1 div.sk-toggleable {background-color: white;}#sk-container-id-1 label.sk-toggleable__label {cursor: pointer;display: block;width: 100%;margin-bottom: 0;padding: 0.3em;box-sizing: border-box;text-align: center;}#sk-container-id-1 label.sk-toggleable__label-arrow:before {content: \"▸\";float: left;margin-right: 0.25em;color: #696969;}#sk-container-id-1 label.sk-toggleable__label-arrow:hover:before {color: black;}#sk-container-id-1 div.sk-estimator:hover label.sk-toggleable__label-arrow:before {color: black;}#sk-container-id-1 div.sk-toggleable__content {max-height: 0;max-width: 0;overflow: hidden;text-align: left;background-color: #f0f8ff;}#sk-container-id-1 div.sk-toggleable__content pre {margin: 0.2em;color: black;border-radius: 0.25em;background-color: #f0f8ff;}#sk-container-id-1 input.sk-toggleable__control:checked~div.sk-toggleable__content {max-height: 200px;max-width: 100%;overflow: auto;}#sk-container-id-1 input.sk-toggleable__control:checked~label.sk-toggleable__label-arrow:before {content: \"▾\";}#sk-container-id-1 div.sk-estimator input.sk-toggleable__control:checked~label.sk-toggleable__label {background-color: #d4ebff;}#sk-container-id-1 div.sk-label input.sk-toggleable__control:checked~label.sk-toggleable__label {background-color: #d4ebff;}#sk-container-id-1 input.sk-hidden--visually {border: 0;clip: rect(1px 1px 1px 1px);clip: rect(1px, 1px, 1px, 1px);height: 1px;margin: -1px;overflow: hidden;padding: 0;position: absolute;width: 1px;}#sk-container-id-1 div.sk-estimator {font-family: monospace;background-color: #f0f8ff;border: 1px dotted black;border-radius: 0.25em;box-sizing: border-box;margin-bottom: 0.5em;}#sk-container-id-1 div.sk-estimator:hover {background-color: #d4ebff;}#sk-container-id-1 div.sk-parallel-item::after {content: \"\";width: 100%;border-bottom: 1px solid gray;flex-grow: 1;}#sk-container-id-1 div.sk-label:hover label.sk-toggleable__label {background-color: #d4ebff;}#sk-container-id-1 div.sk-serial::before {content: \"\";position: absolute;border-left: 1px solid gray;box-sizing: border-box;top: 0;bottom: 0;left: 50%;z-index: 0;}#sk-container-id-1 div.sk-serial {display: flex;flex-direction: column;align-items: center;background-color: white;padding-right: 0.2em;padding-left: 0.2em;position: relative;}#sk-container-id-1 div.sk-item {position: relative;z-index: 1;}#sk-container-id-1 div.sk-parallel {display: flex;align-items: stretch;justify-content: center;background-color: white;position: relative;}#sk-container-id-1 div.sk-item::before, #sk-container-id-1 div.sk-parallel-item::before {content: \"\";position: absolute;border-left: 1px solid gray;box-sizing: border-box;top: 0;bottom: 0;left: 50%;z-index: -1;}#sk-container-id-1 div.sk-parallel-item {display: flex;flex-direction: column;z-index: 1;position: relative;background-color: white;}#sk-container-id-1 div.sk-parallel-item:first-child::after {align-self: flex-end;width: 50%;}#sk-container-id-1 div.sk-parallel-item:last-child::after {align-self: flex-start;width: 50%;}#sk-container-id-1 div.sk-parallel-item:only-child::after {width: 0;}#sk-container-id-1 div.sk-dashed-wrapped {border: 1px dashed gray;margin: 0 0.4em 0.5em 0.4em;box-sizing: border-box;padding-bottom: 0.4em;background-color: white;}#sk-container-id-1 div.sk-label label {font-family: monospace;font-weight: bold;display: inline-block;line-height: 1.2em;}#sk-container-id-1 div.sk-label-container {text-align: center;}#sk-container-id-1 div.sk-container {/* jupyter's `normalize.less` sets `[hidden] { display: none; }` but bootstrap.min.css set `[hidden] { display: none !important; }` so we also need the `!important` here to be able to override the default hidden behavior on the sphinx rendered scikit-learn.org. See: https://github.com/scikit-learn/scikit-learn/issues/21755 */display: inline-block !important;position: relative;}#sk-container-id-1 div.sk-text-repr-fallback {display: none;}</style><div id=\"sk-container-id-1\" class=\"sk-top-container\"><div class=\"sk-text-repr-fallback\"><pre>StackingClassifier(cv=5,\n",
       "                   estimators=[(&#x27;lr&#x27;, LogisticRegression()),\n",
       "                               (&#x27;rf&#x27;, RandomForestClassifier(random_state=42)),\n",
       "                               (&#x27;gb&#x27;,\n",
       "                                GradientBoostingClassifier(random_state=42))],\n",
       "                   final_estimator=LogisticRegression())</pre><b>In a Jupyter environment, please rerun this cell to show the HTML representation or trust the notebook. <br />On GitHub, the HTML representation is unable to render, please try loading this page with nbviewer.org.</b></div><div class=\"sk-container\" hidden><div class=\"sk-item sk-dashed-wrapped\"><div class=\"sk-label-container\"><div class=\"sk-label sk-toggleable\"><input class=\"sk-toggleable__control sk-hidden--visually\" id=\"sk-estimator-id-1\" type=\"checkbox\" ><label for=\"sk-estimator-id-1\" class=\"sk-toggleable__label sk-toggleable__label-arrow\">StackingClassifier</label><div class=\"sk-toggleable__content\"><pre>StackingClassifier(cv=5,\n",
       "                   estimators=[(&#x27;lr&#x27;, LogisticRegression()),\n",
       "                               (&#x27;rf&#x27;, RandomForestClassifier(random_state=42)),\n",
       "                               (&#x27;gb&#x27;,\n",
       "                                GradientBoostingClassifier(random_state=42))],\n",
       "                   final_estimator=LogisticRegression())</pre></div></div></div><div class=\"sk-serial\"><div class=\"sk-item\"><div class=\"sk-parallel\"><div class=\"sk-parallel-item\"><div class=\"sk-item\"><div class=\"sk-label-container\"><div class=\"sk-label sk-toggleable\"><label>lr</label></div></div><div class=\"sk-serial\"><div class=\"sk-item\"><div class=\"sk-estimator sk-toggleable\"><input class=\"sk-toggleable__control sk-hidden--visually\" id=\"sk-estimator-id-2\" type=\"checkbox\" ><label for=\"sk-estimator-id-2\" class=\"sk-toggleable__label sk-toggleable__label-arrow\">LogisticRegression</label><div class=\"sk-toggleable__content\"><pre>LogisticRegression()</pre></div></div></div></div></div></div><div class=\"sk-parallel-item\"><div class=\"sk-item\"><div class=\"sk-label-container\"><div class=\"sk-label sk-toggleable\"><label>rf</label></div></div><div class=\"sk-serial\"><div class=\"sk-item\"><div class=\"sk-estimator sk-toggleable\"><input class=\"sk-toggleable__control sk-hidden--visually\" id=\"sk-estimator-id-3\" type=\"checkbox\" ><label for=\"sk-estimator-id-3\" class=\"sk-toggleable__label sk-toggleable__label-arrow\">RandomForestClassifier</label><div class=\"sk-toggleable__content\"><pre>RandomForestClassifier(random_state=42)</pre></div></div></div></div></div></div><div class=\"sk-parallel-item\"><div class=\"sk-item\"><div class=\"sk-label-container\"><div class=\"sk-label sk-toggleable\"><label>gb</label></div></div><div class=\"sk-serial\"><div class=\"sk-item\"><div class=\"sk-estimator sk-toggleable\"><input class=\"sk-toggleable__control sk-hidden--visually\" id=\"sk-estimator-id-4\" type=\"checkbox\" ><label for=\"sk-estimator-id-4\" class=\"sk-toggleable__label sk-toggleable__label-arrow\">GradientBoostingClassifier</label><div class=\"sk-toggleable__content\"><pre>GradientBoostingClassifier(random_state=42)</pre></div></div></div></div></div></div></div></div><div class=\"sk-item\"><div class=\"sk-parallel\"><div class=\"sk-parallel-item\"><div class=\"sk-item\"><div class=\"sk-label-container\"><div class=\"sk-label sk-toggleable\"><label>final_estimator</label></div></div><div class=\"sk-serial\"><div class=\"sk-item\"><div class=\"sk-estimator sk-toggleable\"><input class=\"sk-toggleable__control sk-hidden--visually\" id=\"sk-estimator-id-5\" type=\"checkbox\" ><label for=\"sk-estimator-id-5\" class=\"sk-toggleable__label sk-toggleable__label-arrow\">LogisticRegression</label><div class=\"sk-toggleable__content\"><pre>LogisticRegression()</pre></div></div></div></div></div></div></div></div></div></div></div></div>"
      ],
      "text/plain": [
       "StackingClassifier(cv=5,\n",
       "                   estimators=[('lr', LogisticRegression()),\n",
       "                               ('rf', RandomForestClassifier(random_state=42)),\n",
       "                               ('gb',\n",
       "                                GradientBoostingClassifier(random_state=42))],\n",
       "                   final_estimator=LogisticRegression())"
      ]
     },
     "execution_count": 8,
     "metadata": {},
     "output_type": "execute_result"
    }
   ],
   "source": [
    "from sklearn.ensemble import StackingClassifier\n",
    "\n",
    "# Base models\n",
    "base_models = [\n",
    "    ('lr', LogisticRegression()),\n",
    "    ('rf', RandomForestClassifier(n_estimators=100, random_state=42)),\n",
    "    ('gb', GradientBoostingClassifier(n_estimators=100, random_state=42))\n",
    "]\n",
    "\n",
    "# Meta-model\n",
    "meta_model = LogisticRegression()\n",
    "\n",
    "# Stacking Classifier\n",
    "stack_model = StackingClassifier(estimators=base_models, final_estimator=meta_model, cv=5)\n",
    "\n",
    "stack_model.fit(X_train, y_train)\n"
   ]
  },
  {
   "cell_type": "code",
   "execution_count": 9,
   "id": "d13dc192",
   "metadata": {
    "execution": {
     "iopub.execute_input": "2025-07-03T12:44:57.533899Z",
     "iopub.status.busy": "2025-07-03T12:44:57.533544Z",
     "iopub.status.idle": "2025-07-03T12:44:57.882791Z",
     "shell.execute_reply": "2025-07-03T12:44:57.881868Z"
    },
    "papermill": {
     "duration": 0.35689,
     "end_time": "2025-07-03T12:44:57.884408",
     "exception": false,
     "start_time": "2025-07-03T12:44:57.527518",
     "status": "completed"
    },
    "tags": []
   },
   "outputs": [
    {
     "name": "stdout",
     "output_type": "stream",
     "text": [
      "Validation Accuracy: 0.8156424581005587\n",
      "\n",
      "Classification Report:\n",
      "               precision    recall  f1-score   support\n",
      "\n",
      "           0       0.82      0.89      0.85       105\n",
      "           1       0.82      0.72      0.76        74\n",
      "\n",
      "    accuracy                           0.82       179\n",
      "   macro avg       0.82      0.80      0.81       179\n",
      "weighted avg       0.82      0.82      0.81       179\n",
      "\n"
     ]
    },
    {
     "data": {
      "text/plain": [
       "<sklearn.metrics._plot.confusion_matrix.ConfusionMatrixDisplay at 0x7c7dce5126d0>"
      ]
     },
     "execution_count": 9,
     "metadata": {},
     "output_type": "execute_result"
    },
    {
     "data": {
      "image/png": "[encoded data removed]",
      "text/plain": [
       "<Figure size 640x480 with 2 Axes>"
      ]
     },
     "metadata": {},
     "output_type": "display_data"
    }
   ],
   "source": [
    "val_preds = stack_model.predict(X_val)\n",
    "\n",
    "print(\"Validation Accuracy:\", accuracy_score(y_val, val_preds))\n",
    "print(\"\\nClassification Report:\\n\", classification_report(y_val, val_preds))\n",
    "\n",
    "cm = confusion_matrix(y_val, val_preds)\n",
    "disp = ConfusionMatrixDisplay(confusion_matrix=cm, display_labels=[\"Died\", \"Survived\"])\n",
    "disp.plot()\n"
   ]
  },
  {
   "cell_type": "code",
   "execution_count": 10,
   "id": "0f90a902",
   "metadata": {
    "execution": {
     "iopub.execute_input": "2025-07-03T12:44:57.893416Z",
     "iopub.status.busy": "2025-07-03T12:44:57.893087Z",
     "iopub.status.idle": "2025-07-03T12:44:58.009588Z",
     "shell.execute_reply": "2025-07-03T12:44:58.008651Z"
    },
    "papermill": {
     "duration": 0.122514,
     "end_time": "2025-07-03T12:44:58.010999",
     "exception": false,
     "start_time": "2025-07-03T12:44:57.888485",
     "status": "completed"
    },
    "tags": []
   },
   "outputs": [
    {
     "name": "stdout",
     "output_type": "stream",
     "text": [
      "Stacking submission created!\n"
     ]
    }
   ],
   "source": [
    "final_preds = stack_model.predict(X_test_scaled)\n",
    "\n",
    "submission = pd.DataFrame({\n",
    "    \"PassengerId\": test[\"PassengerId\"],\n",
    "    \"Survived\": final_preds.astype(int)\n",
    "})\n",
    "\n",
    "submission.to_csv(\"submission.csv\", index=False)\n",
    "print(\"Stacking submission created!\")\n"
   ]
  },
  {
   "cell_type": "code",
   "execution_count": null,
   "id": "27ce15cf",
   "metadata": {
    "papermill": {
     "duration": 0.003544,
     "end_time": "2025-07-03T12:44:58.018422",
     "exception": false,
     "start_time": "2025-07-03T12:44:58.014878",
     "status": "completed"
    },
    "tags": []
   },
   "outputs": [],
   "source": []
  }
 ],
 "metadata": {
  "kaggle": {
   "accelerator": "none",
   "dataSources": [
    {
     "databundleVersionId": 26502,
     "sourceId": 3136,
     "sourceType": "competition"
    }
   ],
   "dockerImageVersionId": 31040,
   "isGpuEnabled": false,
   "isInternetEnabled": false,
   "language": "python",
   "sourceType": "notebook"
  },
  "kernelspec": {
   "display_name": "Python 3",
   "language": "python",
   "name": "python3"
  },
  "language_info": {
   "codemirror_mode": {
    "name": "ipython",
    "version": 3
   },
   "file_extension": ".py",
   "mimetype": "text/x-python",
   "name": "python",
   "nbconvert_exporter": "python",
   "pygments_lexer": "ipython3",
   "version": "3.11.11"
  },
  "papermill": {
   "default_parameters": {},
   "duration": 12.226319,
   "end_time": "2025-07-03T12:44:58.742226",
   "environment_variables": {},
   "exception": null,
   "input_path": "__notebook__.ipynb",
   "output_path": "__notebook__.ipynb",
   "parameters": {},
   "start_time": "2025-07-03T12:44:46.515907",
   "version": "2.6.0"
  }
 },
 "nbformat": 4,
 "nbformat_minor": 5
}
