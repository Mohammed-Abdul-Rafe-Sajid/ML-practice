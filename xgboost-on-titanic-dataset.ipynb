{
 "cells": [
  {
   "cell_type": "code",
   "execution_count": 1,
   "id": "090467b9",
   "metadata": {
    "_cell_guid": "b1076dfc-b9ad-4769-8c92-a6c4dae69d19",
    "_uuid": "8f2839f25d086af736a60e9eeb907d3b93b6e0e5",
    "execution": {
     "iopub.execute_input": "2025-07-03T09:46:24.320800Z",
     "iopub.status.busy": "2025-07-03T09:46:24.320366Z",
     "iopub.status.idle": "2025-07-03T09:46:26.188518Z",
     "shell.execute_reply": "2025-07-03T09:46:26.187513Z"
    },
    "papermill": {
     "duration": 1.875271,
     "end_time": "2025-07-03T09:46:26.189994",
     "exception": false,
     "start_time": "2025-07-03T09:46:24.314723",
     "status": "completed"
    },
    "tags": []
   },
   "outputs": [
    {
     "name": "stdout",
     "output_type": "stream",
     "text": [
      "/kaggle/input/titanic/train.csv\n",
      "/kaggle/input/titanic/test.csv\n",
      "/kaggle/input/titanic/gender_submission.csv\n"
     ]
    }
   ],
   "source": [
    "# This Python 3 environment comes with many helpful analytics libraries installed\n",
    "# It is defined by the kaggle/python Docker image: https://github.com/kaggle/docker-python\n",
    "# For example, here's several helpful packages to load\n",
    "\n",
    "import numpy as np # linear algebra\n",
    "import pandas as pd # data processing, CSV file I/O (e.g. pd.read_csv)\n",
    "\n",
    "# Input data files are available in the read-only \"../input/\" directory\n",
    "# For example, running this (by clicking run or pressing Shift+Enter) will list all files under the input directory\n",
    "\n",
    "import os\n",
    "for dirname, _, filenames in os.walk('/kaggle/input'):\n",
    "    for filename in filenames:\n",
    "        print(os.path.join(dirname, filename))\n",
    "\n",
    "# You can write up to 20GB to the current directory (/kaggle/working/) that gets preserved as output when you create a version using \"Save & Run All\" \n",
    "# You can also write temporary files to /kaggle/temp/, but they won't be saved outside of the current session"
   ]
  },
  {
   "cell_type": "code",
   "execution_count": 2,
   "id": "345c3806",
   "metadata": {
    "execution": {
     "iopub.execute_input": "2025-07-03T09:46:26.199619Z",
     "iopub.status.busy": "2025-07-03T09:46:26.199169Z",
     "iopub.status.idle": "2025-07-03T09:46:26.235411Z",
     "shell.execute_reply": "2025-07-03T09:46:26.234531Z"
    },
    "papermill": {
     "duration": 0.042667,
     "end_time": "2025-07-03T09:46:26.237155",
     "exception": false,
     "start_time": "2025-07-03T09:46:26.194488",
     "status": "completed"
    },
    "tags": []
   },
   "outputs": [],
   "source": [
    "train_data=pd.read_csv('/kaggle/input/titanic/train.csv')\n",
    "test_data=pd.read_csv('/kaggle/input/titanic/test.csv')\n"
   ]
  },
  {
   "cell_type": "code",
   "execution_count": 3,
   "id": "61335025",
   "metadata": {
    "execution": {
     "iopub.execute_input": "2025-07-03T09:46:26.246016Z",
     "iopub.status.busy": "2025-07-03T09:46:26.245724Z",
     "iopub.status.idle": "2025-07-03T09:46:26.272797Z",
     "shell.execute_reply": "2025-07-03T09:46:26.271931Z"
    },
    "papermill": {
     "duration": 0.033177,
     "end_time": "2025-07-03T09:46:26.274292",
     "exception": false,
     "start_time": "2025-07-03T09:46:26.241115",
     "status": "completed"
    },
    "tags": []
   },
   "outputs": [
    {
     "data": {
      "text/html": [
       "<div>\n",
       "<style scoped>\n",
       "    .dataframe tbody tr th:only-of-type {\n",
       "        vertical-align: middle;\n",
       "    }\n",
       "\n",
       "    .dataframe tbody tr th {\n",
       "        vertical-align: top;\n",
       "    }\n",
       "\n",
       "    .dataframe thead th {\n",
       "        text-align: right;\n",
       "    }\n",
       "</style>\n",
       "<table border=\"1\" class=\"dataframe\">\n",
       "  <thead>\n",
       "    <tr style=\"text-align: right;\">\n",
       "      <th></th>\n",
       "      <th>PassengerId</th>\n",
       "      <th>Survived</th>\n",
       "      <th>Pclass</th>\n",
       "      <th>Name</th>\n",
       "      <th>Sex</th>\n",
       "      <th>Age</th>\n",
       "      <th>SibSp</th>\n",
       "      <th>Parch</th>\n",
       "      <th>Ticket</th>\n",
       "      <th>Fare</th>\n",
       "      <th>Cabin</th>\n",
       "      <th>Embarked</th>\n",
       "    </tr>\n",
       "  </thead>\n",
       "  <tbody>\n",
       "    <tr>\n",
       "      <th>0</th>\n",
       "      <td>1</td>\n",
       "      <td>0</td>\n",
       "      <td>3</td>\n",
       "      <td>Braund, Mr. Owen Harris</td>\n",
       "      <td>male</td>\n",
       "      <td>22.0</td>\n",
       "      <td>1</td>\n",
       "      <td>0</td>\n",
       "      <td>A/5 21171</td>\n",
       "      <td>7.2500</td>\n",
       "      <td>NaN</td>\n",
       "      <td>S</td>\n",
       "    </tr>\n",
       "    <tr>\n",
       "      <th>1</th>\n",
       "      <td>2</td>\n",
       "      <td>1</td>\n",
       "      <td>1</td>\n",
       "      <td>Cumings, Mrs. John Bradley (Florence Briggs Th...</td>\n",
       "      <td>female</td>\n",
       "      <td>38.0</td>\n",
       "      <td>1</td>\n",
       "      <td>0</td>\n",
       "      <td>PC 17599</td>\n",
       "      <td>71.2833</td>\n",
       "      <td>C85</td>\n",
       "      <td>C</td>\n",
       "    </tr>\n",
       "    <tr>\n",
       "      <th>2</th>\n",
       "      <td>3</td>\n",
       "      <td>1</td>\n",
       "      <td>3</td>\n",
       "      <td>Heikkinen, Miss. Laina</td>\n",
       "      <td>female</td>\n",
       "      <td>26.0</td>\n",
       "      <td>0</td>\n",
       "      <td>0</td>\n",
       "      <td>STON/O2. 3101282</td>\n",
       "      <td>7.9250</td>\n",
       "      <td>NaN</td>\n",
       "      <td>S</td>\n",
       "    </tr>\n",
       "    <tr>\n",
       "      <th>3</th>\n",
       "      <td>4</td>\n",
       "      <td>1</td>\n",
       "      <td>1</td>\n",
       "      <td>Futrelle, Mrs. Jacques Heath (Lily May Peel)</td>\n",
       "      <td>female</td>\n",
       "      <td>35.0</td>\n",
       "      <td>1</td>\n",
       "      <td>0</td>\n",
       "      <td>113803</td>\n",
       "      <td>53.1000</td>\n",
       "      <td>C123</td>\n",
       "      <td>S</td>\n",
       "    </tr>\n",
       "    <tr>\n",
       "      <th>4</th>\n",
       "      <td>5</td>\n",
       "      <td>0</td>\n",
       "      <td>3</td>\n",
       "      <td>Allen, Mr. William Henry</td>\n",
       "      <td>male</td>\n",
       "      <td>35.0</td>\n",
       "      <td>0</td>\n",
       "      <td>0</td>\n",
       "      <td>373450</td>\n",
       "      <td>8.0500</td>\n",
       "      <td>NaN</td>\n",
       "      <td>S</td>\n",
       "    </tr>\n",
       "  </tbody>\n",
       "</table>\n",
       "</div>"
      ],
      "text/plain": [
       "   PassengerId  Survived  Pclass  \\\n",
       "0            1         0       3   \n",
       "1            2         1       1   \n",
       "2            3         1       3   \n",
       "3            4         1       1   \n",
       "4            5         0       3   \n",
       "\n",
       "                                                Name     Sex   Age  SibSp  \\\n",
       "0                            Braund, Mr. Owen Harris    male  22.0      1   \n",
       "1  Cumings, Mrs. John Bradley (Florence Briggs Th...  female  38.0      1   \n",
       "2                             Heikkinen, Miss. Laina  female  26.0      0   \n",
       "3       Futrelle, Mrs. Jacques Heath (Lily May Peel)  female  35.0      1   \n",
       "4                           Allen, Mr. William Henry    male  35.0      0   \n",
       "\n",
       "   Parch            Ticket     Fare Cabin Embarked  \n",
       "0      0         A/5 21171   7.2500   NaN        S  \n",
       "1      0          PC 17599  71.2833   C85        C  \n",
       "2      0  STON/O2. 3101282   7.9250   NaN        S  \n",
       "3      0            113803  53.1000  C123        S  \n",
       "4      0            373450   8.0500   NaN        S  "
      ]
     },
     "execution_count": 3,
     "metadata": {},
     "output_type": "execute_result"
    }
   ],
   "source": [
    "train_data.head()"
   ]
  },
  {
   "cell_type": "code",
   "execution_count": 4,
   "id": "fe811e72",
   "metadata": {
    "execution": {
     "iopub.execute_input": "2025-07-03T09:46:26.283276Z",
     "iopub.status.busy": "2025-07-03T09:46:26.282760Z",
     "iopub.status.idle": "2025-07-03T09:46:26.296161Z",
     "shell.execute_reply": "2025-07-03T09:46:26.295271Z"
    },
    "papermill": {
     "duration": 0.019698,
     "end_time": "2025-07-03T09:46:26.297805",
     "exception": false,
     "start_time": "2025-07-03T09:46:26.278107",
     "status": "completed"
    },
    "tags": []
   },
   "outputs": [
    {
     "data": {
      "text/html": [
       "<div>\n",
       "<style scoped>\n",
       "    .dataframe tbody tr th:only-of-type {\n",
       "        vertical-align: middle;\n",
       "    }\n",
       "\n",
       "    .dataframe tbody tr th {\n",
       "        vertical-align: top;\n",
       "    }\n",
       "\n",
       "    .dataframe thead th {\n",
       "        text-align: right;\n",
       "    }\n",
       "</style>\n",
       "<table border=\"1\" class=\"dataframe\">\n",
       "  <thead>\n",
       "    <tr style=\"text-align: right;\">\n",
       "      <th></th>\n",
       "      <th>PassengerId</th>\n",
       "      <th>Pclass</th>\n",
       "      <th>Name</th>\n",
       "      <th>Sex</th>\n",
       "      <th>Age</th>\n",
       "      <th>SibSp</th>\n",
       "      <th>Parch</th>\n",
       "      <th>Ticket</th>\n",
       "      <th>Fare</th>\n",
       "      <th>Cabin</th>\n",
       "      <th>Embarked</th>\n",
       "    </tr>\n",
       "  </thead>\n",
       "  <tbody>\n",
       "    <tr>\n",
       "      <th>0</th>\n",
       "      <td>892</td>\n",
       "      <td>3</td>\n",
       "      <td>Kelly, Mr. James</td>\n",
       "      <td>male</td>\n",
       "      <td>34.5</td>\n",
       "      <td>0</td>\n",
       "      <td>0</td>\n",
       "      <td>330911</td>\n",
       "      <td>7.8292</td>\n",
       "      <td>NaN</td>\n",
       "      <td>Q</td>\n",
       "    </tr>\n",
       "    <tr>\n",
       "      <th>1</th>\n",
       "      <td>893</td>\n",
       "      <td>3</td>\n",
       "      <td>Wilkes, Mrs. James (Ellen Needs)</td>\n",
       "      <td>female</td>\n",
       "      <td>47.0</td>\n",
       "      <td>1</td>\n",
       "      <td>0</td>\n",
       "      <td>363272</td>\n",
       "      <td>7.0000</td>\n",
       "      <td>NaN</td>\n",
       "      <td>S</td>\n",
       "    </tr>\n",
       "    <tr>\n",
       "      <th>2</th>\n",
       "      <td>894</td>\n",
       "      <td>2</td>\n",
       "      <td>Myles, Mr. Thomas Francis</td>\n",
       "      <td>male</td>\n",
       "      <td>62.0</td>\n",
       "      <td>0</td>\n",
       "      <td>0</td>\n",
       "      <td>240276</td>\n",
       "      <td>9.6875</td>\n",
       "      <td>NaN</td>\n",
       "      <td>Q</td>\n",
       "    </tr>\n",
       "    <tr>\n",
       "      <th>3</th>\n",
       "      <td>895</td>\n",
       "      <td>3</td>\n",
       "      <td>Wirz, Mr. Albert</td>\n",
       "      <td>male</td>\n",
       "      <td>27.0</td>\n",
       "      <td>0</td>\n",
       "      <td>0</td>\n",
       "      <td>315154</td>\n",
       "      <td>8.6625</td>\n",
       "      <td>NaN</td>\n",
       "      <td>S</td>\n",
       "    </tr>\n",
       "    <tr>\n",
       "      <th>4</th>\n",
       "      <td>896</td>\n",
       "      <td>3</td>\n",
       "      <td>Hirvonen, Mrs. Alexander (Helga E Lindqvist)</td>\n",
       "      <td>female</td>\n",
       "      <td>22.0</td>\n",
       "      <td>1</td>\n",
       "      <td>1</td>\n",
       "      <td>3101298</td>\n",
       "      <td>12.2875</td>\n",
       "      <td>NaN</td>\n",
       "      <td>S</td>\n",
       "    </tr>\n",
       "  </tbody>\n",
       "</table>\n",
       "</div>"
      ],
      "text/plain": [
       "   PassengerId  Pclass                                          Name     Sex  \\\n",
       "0          892       3                              Kelly, Mr. James    male   \n",
       "1          893       3              Wilkes, Mrs. James (Ellen Needs)  female   \n",
       "2          894       2                     Myles, Mr. Thomas Francis    male   \n",
       "3          895       3                              Wirz, Mr. Albert    male   \n",
       "4          896       3  Hirvonen, Mrs. Alexander (Helga E Lindqvist)  female   \n",
       "\n",
       "    Age  SibSp  Parch   Ticket     Fare Cabin Embarked  \n",
       "0  34.5      0      0   330911   7.8292   NaN        Q  \n",
       "1  47.0      1      0   363272   7.0000   NaN        S  \n",
       "2  62.0      0      0   240276   9.6875   NaN        Q  \n",
       "3  27.0      0      0   315154   8.6625   NaN        S  \n",
       "4  22.0      1      1  3101298  12.2875   NaN        S  "
      ]
     },
     "execution_count": 4,
     "metadata": {},
     "output_type": "execute_result"
    }
   ],
   "source": [
    "test_data.head()"
   ]
  },
  {
   "cell_type": "code",
   "execution_count": 5,
   "id": "fc704f4b",
   "metadata": {
    "execution": {
     "iopub.execute_input": "2025-07-03T09:46:26.307144Z",
     "iopub.status.busy": "2025-07-03T09:46:26.306827Z",
     "iopub.status.idle": "2025-07-03T09:46:26.316792Z",
     "shell.execute_reply": "2025-07-03T09:46:26.315880Z"
    },
    "papermill": {
     "duration": 0.01624,
     "end_time": "2025-07-03T09:46:26.318350",
     "exception": false,
     "start_time": "2025-07-03T09:46:26.302110",
     "status": "completed"
    },
    "tags": []
   },
   "outputs": [
    {
     "data": {
      "text/plain": [
       "PassengerId      0\n",
       "Survived         0\n",
       "Pclass           0\n",
       "Name             0\n",
       "Sex              0\n",
       "Age            177\n",
       "SibSp            0\n",
       "Parch            0\n",
       "Ticket           0\n",
       "Fare             0\n",
       "Cabin          687\n",
       "Embarked         2\n",
       "dtype: int64"
      ]
     },
     "execution_count": 5,
     "metadata": {},
     "output_type": "execute_result"
    }
   ],
   "source": [
    "train_data.isnull().sum()"
   ]
  },
  {
   "cell_type": "code",
   "execution_count": 6,
   "id": "6fa8755c",
   "metadata": {
    "execution": {
     "iopub.execute_input": "2025-07-03T09:46:26.327814Z",
     "iopub.status.busy": "2025-07-03T09:46:26.327254Z",
     "iopub.status.idle": "2025-07-03T09:46:26.334996Z",
     "shell.execute_reply": "2025-07-03T09:46:26.334110Z"
    },
    "papermill": {
     "duration": 0.014086,
     "end_time": "2025-07-03T09:46:26.336489",
     "exception": false,
     "start_time": "2025-07-03T09:46:26.322403",
     "status": "completed"
    },
    "tags": []
   },
   "outputs": [
    {
     "data": {
      "text/plain": [
       "PassengerId      0\n",
       "Pclass           0\n",
       "Name             0\n",
       "Sex              0\n",
       "Age             86\n",
       "SibSp            0\n",
       "Parch            0\n",
       "Ticket           0\n",
       "Fare             1\n",
       "Cabin          327\n",
       "Embarked         0\n",
       "dtype: int64"
      ]
     },
     "execution_count": 6,
     "metadata": {},
     "output_type": "execute_result"
    }
   ],
   "source": [
    "test_data.isnull().sum()"
   ]
  },
  {
   "cell_type": "code",
   "execution_count": 7,
   "id": "e3b89b55",
   "metadata": {
    "execution": {
     "iopub.execute_input": "2025-07-03T09:46:26.346043Z",
     "iopub.status.busy": "2025-07-03T09:46:26.345773Z",
     "iopub.status.idle": "2025-07-03T09:46:26.352619Z",
     "shell.execute_reply": "2025-07-03T09:46:26.351747Z"
    },
    "papermill": {
     "duration": 0.013303,
     "end_time": "2025-07-03T09:46:26.354081",
     "exception": false,
     "start_time": "2025-07-03T09:46:26.340778",
     "status": "completed"
    },
    "tags": []
   },
   "outputs": [
    {
     "name": "stderr",
     "output_type": "stream",
     "text": [
      "/tmp/ipykernel_13/127112235.py:1: FutureWarning: A value is trying to be set on a copy of a DataFrame or Series through chained assignment using an inplace method.\n",
      "The behavior will change in pandas 3.0. This inplace method will never work because the intermediate object on which we are setting values always behaves as a copy.\n",
      "\n",
      "For example, when doing 'df[col].method(value, inplace=True)', try using 'df.method({col: value}, inplace=True)' or df[col] = df[col].method(value) instead, to perform the operation inplace on the original object.\n",
      "\n",
      "\n",
      "  train_data['Age'].fillna(train_data['Age'].median(),inplace=True)\n"
     ]
    }
   ],
   "source": [
    "train_data['Age'].fillna(train_data['Age'].median(),inplace=True)"
   ]
  },
  {
   "cell_type": "code",
   "execution_count": 8,
   "id": "fa1b4d99",
   "metadata": {
    "execution": {
     "iopub.execute_input": "2025-07-03T09:46:26.367725Z",
     "iopub.status.busy": "2025-07-03T09:46:26.366895Z",
     "iopub.status.idle": "2025-07-03T09:46:26.372642Z",
     "shell.execute_reply": "2025-07-03T09:46:26.371753Z"
    },
    "papermill": {
     "duration": 0.012715,
     "end_time": "2025-07-03T09:46:26.374098",
     "exception": false,
     "start_time": "2025-07-03T09:46:26.361383",
     "status": "completed"
    },
    "tags": []
   },
   "outputs": [
    {
     "name": "stderr",
     "output_type": "stream",
     "text": [
      "/tmp/ipykernel_13/3330545753.py:1: FutureWarning: A value is trying to be set on a copy of a DataFrame or Series through chained assignment using an inplace method.\n",
      "The behavior will change in pandas 3.0. This inplace method will never work because the intermediate object on which we are setting values always behaves as a copy.\n",
      "\n",
      "For example, when doing 'df[col].method(value, inplace=True)', try using 'df.method({col: value}, inplace=True)' or df[col] = df[col].method(value) instead, to perform the operation inplace on the original object.\n",
      "\n",
      "\n",
      "  test_data['Age'].fillna(test_data['Age'].median(),inplace=True)\n"
     ]
    }
   ],
   "source": [
    "test_data['Age'].fillna(test_data['Age'].median(),inplace=True)"
   ]
  },
  {
   "cell_type": "code",
   "execution_count": 9,
   "id": "ab6c7f88",
   "metadata": {
    "execution": {
     "iopub.execute_input": "2025-07-03T09:46:26.384678Z",
     "iopub.status.busy": "2025-07-03T09:46:26.384083Z",
     "iopub.status.idle": "2025-07-03T09:46:26.392276Z",
     "shell.execute_reply": "2025-07-03T09:46:26.391265Z"
    },
    "papermill": {
     "duration": 0.014885,
     "end_time": "2025-07-03T09:46:26.393779",
     "exception": false,
     "start_time": "2025-07-03T09:46:26.378894",
     "status": "completed"
    },
    "tags": []
   },
   "outputs": [
    {
     "name": "stderr",
     "output_type": "stream",
     "text": [
      "/tmp/ipykernel_13/435435609.py:1: FutureWarning: A value is trying to be set on a copy of a DataFrame or Series through chained assignment using an inplace method.\n",
      "The behavior will change in pandas 3.0. This inplace method will never work because the intermediate object on which we are setting values always behaves as a copy.\n",
      "\n",
      "For example, when doing 'df[col].method(value, inplace=True)', try using 'df.method({col: value}, inplace=True)' or df[col] = df[col].method(value) instead, to perform the operation inplace on the original object.\n",
      "\n",
      "\n",
      "  train_data[\"Embarked\"].fillna(train_data['Embarked'].mode()[0],inplace=True)\n"
     ]
    }
   ],
   "source": [
    "train_data[\"Embarked\"].fillna(train_data['Embarked'].mode()[0],inplace=True)"
   ]
  },
  {
   "cell_type": "code",
   "execution_count": 10,
   "id": "df8aa0da",
   "metadata": {
    "execution": {
     "iopub.execute_input": "2025-07-03T09:46:26.403647Z",
     "iopub.status.busy": "2025-07-03T09:46:26.403346Z",
     "iopub.status.idle": "2025-07-03T09:46:26.408955Z",
     "shell.execute_reply": "2025-07-03T09:46:26.408079Z"
    },
    "papermill": {
     "duration": 0.012152,
     "end_time": "2025-07-03T09:46:26.410393",
     "exception": false,
     "start_time": "2025-07-03T09:46:26.398241",
     "status": "completed"
    },
    "tags": []
   },
   "outputs": [
    {
     "name": "stderr",
     "output_type": "stream",
     "text": [
      "/tmp/ipykernel_13/3158575311.py:1: FutureWarning: A value is trying to be set on a copy of a DataFrame or Series through chained assignment using an inplace method.\n",
      "The behavior will change in pandas 3.0. This inplace method will never work because the intermediate object on which we are setting values always behaves as a copy.\n",
      "\n",
      "For example, when doing 'df[col].method(value, inplace=True)', try using 'df.method({col: value}, inplace=True)' or df[col] = df[col].method(value) instead, to perform the operation inplace on the original object.\n",
      "\n",
      "\n",
      "  test_data['Fare'].fillna(test_data['Fare'].median(),inplace=True)\n"
     ]
    }
   ],
   "source": [
    "test_data['Fare'].fillna(test_data['Fare'].median(),inplace=True)"
   ]
  },
  {
   "cell_type": "code",
   "execution_count": 11,
   "id": "d9f13195",
   "metadata": {
    "execution": {
     "iopub.execute_input": "2025-07-03T09:46:26.420335Z",
     "iopub.status.busy": "2025-07-03T09:46:26.419610Z",
     "iopub.status.idle": "2025-07-03T09:46:26.441131Z",
     "shell.execute_reply": "2025-07-03T09:46:26.440354Z"
    },
    "papermill": {
     "duration": 0.028071,
     "end_time": "2025-07-03T09:46:26.442687",
     "exception": false,
     "start_time": "2025-07-03T09:46:26.414616",
     "status": "completed"
    },
    "tags": []
   },
   "outputs": [],
   "source": [
    "train_data=pd.get_dummies(train_data,columns=['Sex','Embarked'],drop_first=True)\n",
    "test_data=pd.get_dummies(test_data,columns=['Sex','Embarked'],drop_first=True)"
   ]
  },
  {
   "cell_type": "code",
   "execution_count": 12,
   "id": "aff75641",
   "metadata": {
    "execution": {
     "iopub.execute_input": "2025-07-03T09:46:26.452739Z",
     "iopub.status.busy": "2025-07-03T09:46:26.452421Z",
     "iopub.status.idle": "2025-07-03T09:46:26.458375Z",
     "shell.execute_reply": "2025-07-03T09:46:26.457546Z"
    },
    "papermill": {
     "duration": 0.012739,
     "end_time": "2025-07-03T09:46:26.459882",
     "exception": false,
     "start_time": "2025-07-03T09:46:26.447143",
     "status": "completed"
    },
    "tags": []
   },
   "outputs": [
    {
     "data": {
      "text/plain": [
       "Index(['PassengerId', 'Survived', 'Pclass', 'Name', 'Age', 'SibSp', 'Parch',\n",
       "       'Ticket', 'Fare', 'Cabin', 'Sex_male', 'Embarked_Q', 'Embarked_S'],\n",
       "      dtype='object')"
      ]
     },
     "execution_count": 12,
     "metadata": {},
     "output_type": "execute_result"
    }
   ],
   "source": [
    "train_data.columns"
   ]
  },
  {
   "cell_type": "code",
   "execution_count": 13,
   "id": "81a4fec9",
   "metadata": {
    "execution": {
     "iopub.execute_input": "2025-07-03T09:46:26.470190Z",
     "iopub.status.busy": "2025-07-03T09:46:26.469511Z",
     "iopub.status.idle": "2025-07-03T09:46:26.476459Z",
     "shell.execute_reply": "2025-07-03T09:46:26.475634Z"
    },
    "papermill": {
     "duration": 0.013466,
     "end_time": "2025-07-03T09:46:26.477843",
     "exception": false,
     "start_time": "2025-07-03T09:46:26.464377",
     "status": "completed"
    },
    "tags": []
   },
   "outputs": [],
   "source": [
    "features=[ 'Pclass', 'Age', 'SibSp', 'Parch', 'Fare', 'Sex_male', 'Embarked_Q', 'Embarked_S']\n",
    "X=train_data[features]\n",
    "y=train_data['Survived']\n",
    "X_test=test_data[features]"
   ]
  },
  {
   "cell_type": "code",
   "execution_count": 14,
   "id": "912f66d8",
   "metadata": {
    "execution": {
     "iopub.execute_input": "2025-07-03T09:46:26.487972Z",
     "iopub.status.busy": "2025-07-03T09:46:26.487696Z",
     "iopub.status.idle": "2025-07-03T09:46:27.867001Z",
     "shell.execute_reply": "2025-07-03T09:46:27.866147Z"
    },
    "papermill": {
     "duration": 1.386304,
     "end_time": "2025-07-03T09:46:27.868685",
     "exception": false,
     "start_time": "2025-07-03T09:46:26.482381",
     "status": "completed"
    },
    "tags": []
   },
   "outputs": [],
   "source": [
    "from sklearn.model_selection import train_test_split\n",
    "\n",
    "X_train, X_val, y_train, y_val = train_test_split(\n",
    "    X, y, test_size=0.2, random_state=42)\n"
   ]
  },
  {
   "cell_type": "code",
   "execution_count": 15,
   "id": "8c5d2040",
   "metadata": {
    "execution": {
     "iopub.execute_input": "2025-07-03T09:46:27.879988Z",
     "iopub.status.busy": "2025-07-03T09:46:27.878908Z",
     "iopub.status.idle": "2025-07-03T09:46:28.642134Z",
     "shell.execute_reply": "2025-07-03T09:46:28.641372Z"
    },
    "papermill": {
     "duration": 0.770276,
     "end_time": "2025-07-03T09:46:28.643584",
     "exception": false,
     "start_time": "2025-07-03T09:46:27.873308",
     "status": "completed"
    },
    "tags": []
   },
   "outputs": [
    {
     "name": "stdout",
     "output_type": "stream",
     "text": [
      "[0]\tvalidation_0-logloss:0.67123\n",
      "[1]\tvalidation_0-logloss:0.66229\n",
      "[2]\tvalidation_0-logloss:0.65373\n",
      "[3]\tvalidation_0-logloss:0.64554\n",
      "[4]\tvalidation_0-logloss:0.63768\n",
      "[5]\tvalidation_0-logloss:0.63015\n",
      "[6]\tvalidation_0-logloss:0.62279\n",
      "[7]\tvalidation_0-logloss:0.61584\n",
      "[8]\tvalidation_0-logloss:0.60904\n",
      "[9]\tvalidation_0-logloss:0.60250\n",
      "[10]\tvalidation_0-logloss:0.59633\n",
      "[11]\tvalidation_0-logloss:0.59026\n",
      "[12]\tvalidation_0-logloss:0.58438\n",
      "[13]\tvalidation_0-logloss:0.57875\n",
      "[14]\tvalidation_0-logloss:0.57329\n",
      "[15]\tvalidation_0-logloss:0.56789\n",
      "[16]\tvalidation_0-logloss:0.56296\n",
      "[17]\tvalidation_0-logloss:0.55793\n",
      "[18]\tvalidation_0-logloss:0.55334\n",
      "[19]\tvalidation_0-logloss:0.54910\n",
      "[20]\tvalidation_0-logloss:0.54500\n",
      "[21]\tvalidation_0-logloss:0.54107\n",
      "[22]\tvalidation_0-logloss:0.53747\n",
      "[23]\tvalidation_0-logloss:0.53407\n",
      "[24]\tvalidation_0-logloss:0.53043\n",
      "[25]\tvalidation_0-logloss:0.52728\n",
      "[26]\tvalidation_0-logloss:0.52387\n",
      "[27]\tvalidation_0-logloss:0.52098\n",
      "[28]\tvalidation_0-logloss:0.51780\n",
      "[29]\tvalidation_0-logloss:0.51484\n",
      "[30]\tvalidation_0-logloss:0.51212\n",
      "[31]\tvalidation_0-logloss:0.50913\n",
      "[32]\tvalidation_0-logloss:0.50628\n",
      "[33]\tvalidation_0-logloss:0.50362\n",
      "[34]\tvalidation_0-logloss:0.50093\n",
      "[35]\tvalidation_0-logloss:0.49837\n",
      "[36]\tvalidation_0-logloss:0.49578\n",
      "[37]\tvalidation_0-logloss:0.49344\n",
      "[38]\tvalidation_0-logloss:0.49123\n",
      "[39]\tvalidation_0-logloss:0.48894\n",
      "[40]\tvalidation_0-logloss:0.48698\n",
      "[41]\tvalidation_0-logloss:0.48495\n",
      "[42]\tvalidation_0-logloss:0.48303\n",
      "[43]\tvalidation_0-logloss:0.48106\n",
      "[44]\tvalidation_0-logloss:0.47918\n",
      "[45]\tvalidation_0-logloss:0.47711\n",
      "[46]\tvalidation_0-logloss:0.47562\n",
      "[47]\tvalidation_0-logloss:0.47363\n",
      "[48]\tvalidation_0-logloss:0.47236\n",
      "[49]\tvalidation_0-logloss:0.47057\n",
      "[50]\tvalidation_0-logloss:0.46873\n",
      "[51]\tvalidation_0-logloss:0.46704\n",
      "[52]\tvalidation_0-logloss:0.46536\n",
      "[53]\tvalidation_0-logloss:0.46365\n",
      "[54]\tvalidation_0-logloss:0.46207\n",
      "[55]\tvalidation_0-logloss:0.46046\n",
      "[56]\tvalidation_0-logloss:0.45923\n",
      "[57]\tvalidation_0-logloss:0.45793\n",
      "[58]\tvalidation_0-logloss:0.45662\n",
      "[59]\tvalidation_0-logloss:0.45549\n",
      "[60]\tvalidation_0-logloss:0.45414\n",
      "[61]\tvalidation_0-logloss:0.45346\n",
      "[62]\tvalidation_0-logloss:0.45220\n",
      "[63]\tvalidation_0-logloss:0.45094\n",
      "[64]\tvalidation_0-logloss:0.45018\n",
      "[65]\tvalidation_0-logloss:0.44939\n"
     ]
    },
    {
     "name": "stderr",
     "output_type": "stream",
     "text": [
      "/usr/local/lib/python3.11/dist-packages/xgboost/sklearn.py:889: UserWarning: `early_stopping_rounds` in `fit` method is deprecated for better compatibility with scikit-learn, use `early_stopping_rounds` in constructor or`set_params` instead.\n",
      "  warnings.warn(\n"
     ]
    },
    {
     "name": "stdout",
     "output_type": "stream",
     "text": [
      "[66]\tvalidation_0-logloss:0.44824\n",
      "[67]\tvalidation_0-logloss:0.44746\n",
      "[68]\tvalidation_0-logloss:0.44663\n",
      "[69]\tvalidation_0-logloss:0.44570\n",
      "[70]\tvalidation_0-logloss:0.44498\n",
      "[71]\tvalidation_0-logloss:0.44389\n",
      "[72]\tvalidation_0-logloss:0.44314\n",
      "[73]\tvalidation_0-logloss:0.44201\n",
      "[74]\tvalidation_0-logloss:0.44109\n",
      "[75]\tvalidation_0-logloss:0.44048\n",
      "[76]\tvalidation_0-logloss:0.43960\n",
      "[77]\tvalidation_0-logloss:0.43910\n",
      "[78]\tvalidation_0-logloss:0.43797\n",
      "[79]\tvalidation_0-logloss:0.43767\n",
      "[80]\tvalidation_0-logloss:0.43649\n",
      "[81]\tvalidation_0-logloss:0.43626\n",
      "[82]\tvalidation_0-logloss:0.43547\n",
      "[83]\tvalidation_0-logloss:0.43509\n",
      "[84]\tvalidation_0-logloss:0.43417\n",
      "[85]\tvalidation_0-logloss:0.43369\n",
      "[86]\tvalidation_0-logloss:0.43278\n",
      "[87]\tvalidation_0-logloss:0.43233\n",
      "[88]\tvalidation_0-logloss:0.43166\n",
      "[89]\tvalidation_0-logloss:0.43137\n",
      "[90]\tvalidation_0-logloss:0.43060\n",
      "[91]\tvalidation_0-logloss:0.43025\n",
      "[92]\tvalidation_0-logloss:0.42934\n",
      "[93]\tvalidation_0-logloss:0.42915\n",
      "[94]\tvalidation_0-logloss:0.42851\n",
      "[95]\tvalidation_0-logloss:0.42810\n",
      "[96]\tvalidation_0-logloss:0.42755\n",
      "[97]\tvalidation_0-logloss:0.42733\n",
      "[98]\tvalidation_0-logloss:0.42705\n",
      "[99]\tvalidation_0-logloss:0.42653\n",
      "[100]\tvalidation_0-logloss:0.42645\n",
      "[101]\tvalidation_0-logloss:0.42611\n",
      "[102]\tvalidation_0-logloss:0.42573\n",
      "[103]\tvalidation_0-logloss:0.42567\n",
      "[104]\tvalidation_0-logloss:0.42547\n",
      "[105]\tvalidation_0-logloss:0.42506\n",
      "[106]\tvalidation_0-logloss:0.42487\n",
      "[107]\tvalidation_0-logloss:0.42468\n",
      "[108]\tvalidation_0-logloss:0.42452\n",
      "[109]\tvalidation_0-logloss:0.42436\n",
      "[110]\tvalidation_0-logloss:0.42418\n",
      "[111]\tvalidation_0-logloss:0.42389\n",
      "[112]\tvalidation_0-logloss:0.42348\n",
      "[113]\tvalidation_0-logloss:0.42334\n",
      "[114]\tvalidation_0-logloss:0.42315\n",
      "[115]\tvalidation_0-logloss:0.42287\n",
      "[116]\tvalidation_0-logloss:0.42260\n",
      "[117]\tvalidation_0-logloss:0.42269\n",
      "[118]\tvalidation_0-logloss:0.42237\n",
      "[119]\tvalidation_0-logloss:0.42215\n",
      "[120]\tvalidation_0-logloss:0.42196\n",
      "[121]\tvalidation_0-logloss:0.42187\n",
      "[122]\tvalidation_0-logloss:0.42174\n",
      "[123]\tvalidation_0-logloss:0.42138\n",
      "[124]\tvalidation_0-logloss:0.42135\n",
      "[125]\tvalidation_0-logloss:0.42132\n",
      "[126]\tvalidation_0-logloss:0.42127\n",
      "[127]\tvalidation_0-logloss:0.42115\n",
      "[128]\tvalidation_0-logloss:0.42115\n",
      "[129]\tvalidation_0-logloss:0.42099\n",
      "[130]\tvalidation_0-logloss:0.42080\n",
      "[131]\tvalidation_0-logloss:0.42078\n",
      "[132]\tvalidation_0-logloss:0.42078\n",
      "[133]\tvalidation_0-logloss:0.42065\n",
      "[134]\tvalidation_0-logloss:0.42059\n",
      "[135]\tvalidation_0-logloss:0.42034\n",
      "[136]\tvalidation_0-logloss:0.42008\n",
      "[137]\tvalidation_0-logloss:0.42003\n",
      "[138]\tvalidation_0-logloss:0.41985\n",
      "[139]\tvalidation_0-logloss:0.41960\n",
      "[140]\tvalidation_0-logloss:0.41937\n",
      "[141]\tvalidation_0-logloss:0.41940\n",
      "[142]\tvalidation_0-logloss:0.41920\n",
      "[143]\tvalidation_0-logloss:0.41924\n",
      "[144]\tvalidation_0-logloss:0.41922\n",
      "[145]\tvalidation_0-logloss:0.41892\n",
      "[146]\tvalidation_0-logloss:0.41893\n",
      "[147]\tvalidation_0-logloss:0.41878\n",
      "[148]\tvalidation_0-logloss:0.41870\n",
      "[149]\tvalidation_0-logloss:0.41845\n",
      "[150]\tvalidation_0-logloss:0.41855\n",
      "[151]\tvalidation_0-logloss:0.41859\n",
      "[152]\tvalidation_0-logloss:0.41866\n",
      "[153]\tvalidation_0-logloss:0.41875\n",
      "[154]\tvalidation_0-logloss:0.41871\n",
      "[155]\tvalidation_0-logloss:0.41872\n",
      "[156]\tvalidation_0-logloss:0.41868\n",
      "[157]\tvalidation_0-logloss:0.41878\n",
      "[158]\tvalidation_0-logloss:0.41888\n"
     ]
    },
    {
     "data": {
      "text/html": [
       "<style>#sk-container-id-1 {color: black;background-color: white;}#sk-container-id-1 pre{padding: 0;}#sk-container-id-1 div.sk-toggleable {background-color: white;}#sk-container-id-1 label.sk-toggleable__label {cursor: pointer;display: block;width: 100%;margin-bottom: 0;padding: 0.3em;box-sizing: border-box;text-align: center;}#sk-container-id-1 label.sk-toggleable__label-arrow:before {content: \"▸\";float: left;margin-right: 0.25em;color: #696969;}#sk-container-id-1 label.sk-toggleable__label-arrow:hover:before {color: black;}#sk-container-id-1 div.sk-estimator:hover label.sk-toggleable__label-arrow:before {color: black;}#sk-container-id-1 div.sk-toggleable__content {max-height: 0;max-width: 0;overflow: hidden;text-align: left;background-color: #f0f8ff;}#sk-container-id-1 div.sk-toggleable__content pre {margin: 0.2em;color: black;border-radius: 0.25em;background-color: #f0f8ff;}#sk-container-id-1 input.sk-toggleable__control:checked~div.sk-toggleable__content {max-height: 200px;max-width: 100%;overflow: auto;}#sk-container-id-1 input.sk-toggleable__control:checked~label.sk-toggleable__label-arrow:before {content: \"▾\";}#sk-container-id-1 div.sk-estimator input.sk-toggleable__control:checked~label.sk-toggleable__label {background-color: #d4ebff;}#sk-container-id-1 div.sk-label input.sk-toggleable__control:checked~label.sk-toggleable__label {background-color: #d4ebff;}#sk-container-id-1 input.sk-hidden--visually {border: 0;clip: rect(1px 1px 1px 1px);clip: rect(1px, 1px, 1px, 1px);height: 1px;margin: -1px;overflow: hidden;padding: 0;position: absolute;width: 1px;}#sk-container-id-1 div.sk-estimator {font-family: monospace;background-color: #f0f8ff;border: 1px dotted black;border-radius: 0.25em;box-sizing: border-box;margin-bottom: 0.5em;}#sk-container-id-1 div.sk-estimator:hover {background-color: #d4ebff;}#sk-container-id-1 div.sk-parallel-item::after {content: \"\";width: 100%;border-bottom: 1px solid gray;flex-grow: 1;}#sk-container-id-1 div.sk-label:hover label.sk-toggleable__label {background-color: #d4ebff;}#sk-container-id-1 div.sk-serial::before {content: \"\";position: absolute;border-left: 1px solid gray;box-sizing: border-box;top: 0;bottom: 0;left: 50%;z-index: 0;}#sk-container-id-1 div.sk-serial {display: flex;flex-direction: column;align-items: center;background-color: white;padding-right: 0.2em;padding-left: 0.2em;position: relative;}#sk-container-id-1 div.sk-item {position: relative;z-index: 1;}#sk-container-id-1 div.sk-parallel {display: flex;align-items: stretch;justify-content: center;background-color: white;position: relative;}#sk-container-id-1 div.sk-item::before, #sk-container-id-1 div.sk-parallel-item::before {content: \"\";position: absolute;border-left: 1px solid gray;box-sizing: border-box;top: 0;bottom: 0;left: 50%;z-index: -1;}#sk-container-id-1 div.sk-parallel-item {display: flex;flex-direction: column;z-index: 1;position: relative;background-color: white;}#sk-container-id-1 div.sk-parallel-item:first-child::after {align-self: flex-end;width: 50%;}#sk-container-id-1 div.sk-parallel-item:last-child::after {align-self: flex-start;width: 50%;}#sk-container-id-1 div.sk-parallel-item:only-child::after {width: 0;}#sk-container-id-1 div.sk-dashed-wrapped {border: 1px dashed gray;margin: 0 0.4em 0.5em 0.4em;box-sizing: border-box;padding-bottom: 0.4em;background-color: white;}#sk-container-id-1 div.sk-label label {font-family: monospace;font-weight: bold;display: inline-block;line-height: 1.2em;}#sk-container-id-1 div.sk-label-container {text-align: center;}#sk-container-id-1 div.sk-container {/* jupyter's `normalize.less` sets `[hidden] { display: none; }` but bootstrap.min.css set `[hidden] { display: none !important; }` so we also need the `!important` here to be able to override the default hidden behavior on the sphinx rendered scikit-learn.org. See: https://github.com/scikit-learn/scikit-learn/issues/21755 */display: inline-block !important;position: relative;}#sk-container-id-1 div.sk-text-repr-fallback {display: none;}</style><div id=\"sk-container-id-1\" class=\"sk-top-container\"><div class=\"sk-text-repr-fallback\"><pre>XGBClassifier(base_score=None, booster=None, callbacks=None,\n",
       "              colsample_bylevel=None, colsample_bynode=None,\n",
       "              colsample_bytree=None, device=None, early_stopping_rounds=None,\n",
       "              enable_categorical=False, eval_metric=&#x27;logloss&#x27;,\n",
       "              feature_types=None, gamma=None, grow_policy=None,\n",
       "              importance_type=None, interaction_constraints=None,\n",
       "              learning_rate=0.02, max_bin=None, max_cat_threshold=None,\n",
       "              max_cat_to_onehot=None, max_delta_step=None, max_depth=5,\n",
       "              max_leaves=None, min_child_weight=None, missing=nan,\n",
       "              monotone_constraints=None, multi_strategy=None, n_estimators=500,\n",
       "              n_jobs=None, num_parallel_tree=None, random_state=42, ...)</pre><b>In a Jupyter environment, please rerun this cell to show the HTML representation or trust the notebook. <br />On GitHub, the HTML representation is unable to render, please try loading this page with nbviewer.org.</b></div><div class=\"sk-container\" hidden><div class=\"sk-item\"><div class=\"sk-estimator sk-toggleable\"><input class=\"sk-toggleable__control sk-hidden--visually\" id=\"sk-estimator-id-1\" type=\"checkbox\" checked><label for=\"sk-estimator-id-1\" class=\"sk-toggleable__label sk-toggleable__label-arrow\">XGBClassifier</label><div class=\"sk-toggleable__content\"><pre>XGBClassifier(base_score=None, booster=None, callbacks=None,\n",
       "              colsample_bylevel=None, colsample_bynode=None,\n",
       "              colsample_bytree=None, device=None, early_stopping_rounds=None,\n",
       "              enable_categorical=False, eval_metric=&#x27;logloss&#x27;,\n",
       "              feature_types=None, gamma=None, grow_policy=None,\n",
       "              importance_type=None, interaction_constraints=None,\n",
       "              learning_rate=0.02, max_bin=None, max_cat_threshold=None,\n",
       "              max_cat_to_onehot=None, max_delta_step=None, max_depth=5,\n",
       "              max_leaves=None, min_child_weight=None, missing=nan,\n",
       "              monotone_constraints=None, multi_strategy=None, n_estimators=500,\n",
       "              n_jobs=None, num_parallel_tree=None, random_state=42, ...)</pre></div></div></div></div></div>"
      ],
      "text/plain": [
       "XGBClassifier(base_score=None, booster=None, callbacks=None,\n",
       "              colsample_bylevel=None, colsample_bynode=None,\n",
       "              colsample_bytree=None, device=None, early_stopping_rounds=None,\n",
       "              enable_categorical=False, eval_metric='logloss',\n",
       "              feature_types=None, gamma=None, grow_policy=None,\n",
       "              importance_type=None, interaction_constraints=None,\n",
       "              learning_rate=0.02, max_bin=None, max_cat_threshold=None,\n",
       "              max_cat_to_onehot=None, max_delta_step=None, max_depth=5,\n",
       "              max_leaves=None, min_child_weight=None, missing=nan,\n",
       "              monotone_constraints=None, multi_strategy=None, n_estimators=500,\n",
       "              n_jobs=None, num_parallel_tree=None, random_state=42, ...)"
      ]
     },
     "execution_count": 15,
     "metadata": {},
     "output_type": "execute_result"
    }
   ],
   "source": [
    "from xgboost import XGBClassifier\n",
    "\n",
    "model = XGBClassifier(\n",
    "    n_estimators=500,\n",
    "    max_depth=5,\n",
    "    learning_rate=0.02,\n",
    "    use_label_encoder=False,\n",
    "    eval_metric='logloss',\n",
    "    random_state=42\n",
    ")\n",
    "\n",
    "model.fit(X_train, y_train, \n",
    "          eval_set=[(X_val, y_val)], \n",
    "          early_stopping_rounds=10, \n",
    "          verbose=True)\n"
   ]
  },
  {
   "cell_type": "code",
   "execution_count": 16,
   "id": "87fae6a3",
   "metadata": {
    "execution": {
     "iopub.execute_input": "2025-07-03T09:46:28.672241Z",
     "iopub.status.busy": "2025-07-03T09:46:28.671885Z",
     "iopub.status.idle": "2025-07-03T09:46:29.061988Z",
     "shell.execute_reply": "2025-07-03T09:46:29.061112Z"
    },
    "papermill": {
     "duration": 0.405541,
     "end_time": "2025-07-03T09:46:29.063636",
     "exception": false,
     "start_time": "2025-07-03T09:46:28.658095",
     "status": "completed"
    },
    "tags": []
   },
   "outputs": [
    {
     "name": "stdout",
     "output_type": "stream",
     "text": [
      "Validation Accuracy: 0.8156424581005587\n",
      "\n",
      "Classification Report:\n",
      "               precision    recall  f1-score   support\n",
      "\n",
      "           0       0.80      0.91      0.85       105\n",
      "           1       0.85      0.68      0.75        74\n",
      "\n",
      "    accuracy                           0.82       179\n",
      "   macro avg       0.82      0.79      0.80       179\n",
      "weighted avg       0.82      0.82      0.81       179\n",
      "\n"
     ]
    },
    {
     "data": {
      "image/png": "[encoded data removed]",
      "text/plain": [
       "<Figure size 640x480 with 2 Axes>"
      ]
     },
     "metadata": {},
     "output_type": "display_data"
    }
   ],
   "source": [
    "from sklearn.metrics import accuracy_score, classification_report, confusion_matrix, ConfusionMatrixDisplay\n",
    "\n",
    "import matplotlib.pyplot as plt\n",
    "\n",
    "val_predictions = model.predict(X_val)\n",
    "\n",
    "print(\"Validation Accuracy:\", accuracy_score(y_val, val_predictions))\n",
    "print(\"\\nClassification Report:\\n\", classification_report(y_val, val_predictions))\n",
    "\n",
    "# Confusion Matrix\n",
    "cm = confusion_matrix(y_val, val_predictions)\n",
    "disp = ConfusionMatrixDisplay(confusion_matrix=cm, display_labels=[\"Died\", \"Survived\"])\n",
    "disp.plot(cmap=plt.cm.Blues)\n",
    "plt.title(\"XGBoost Confusion Matrix\")\n",
    "plt.show()\n"
   ]
  },
  {
   "cell_type": "code",
   "execution_count": 17,
   "id": "0fb11bac",
   "metadata": {
    "execution": {
     "iopub.execute_input": "2025-07-03T09:46:29.090851Z",
     "iopub.status.busy": "2025-07-03T09:46:29.090564Z",
     "iopub.status.idle": "2025-07-03T09:46:29.106126Z",
     "shell.execute_reply": "2025-07-03T09:46:29.105105Z"
    },
    "papermill": {
     "duration": 0.030923,
     "end_time": "2025-07-03T09:46:29.107834",
     "exception": false,
     "start_time": "2025-07-03T09:46:29.076911",
     "status": "completed"
    },
    "tags": []
   },
   "outputs": [
    {
     "name": "stdout",
     "output_type": "stream",
     "text": [
      "Submission file created.\n"
     ]
    }
   ],
   "source": [
    "final_predictions = model.predict(X_test)\n",
    "\n",
    "output = pd.DataFrame({\n",
    "    \"PassengerId\": test_data[\"PassengerId\"],\n",
    "    \"Survived\": final_predictions\n",
    "})\n",
    "\n",
    "output.to_csv(\"submission.csv\", index=False)\n",
    "print(\"Submission file created.\")\n"
   ]
  },
  {
   "cell_type": "code",
   "execution_count": null,
   "id": "f7e7ce78",
   "metadata": {
    "papermill": {
     "duration": 0.012676,
     "end_time": "2025-07-03T09:46:29.133583",
     "exception": false,
     "start_time": "2025-07-03T09:46:29.120907",
     "status": "completed"
    },
    "tags": []
   },
   "outputs": [],
   "source": []
  }
 ],
 "metadata": {
  "kaggle": {
   "accelerator": "none",
   "dataSources": [
    {
     "databundleVersionId": 26502,
     "sourceId": 3136,
     "sourceType": "competition"
    }
   ],
   "dockerImageVersionId": 31040,
   "isGpuEnabled": false,
   "isInternetEnabled": false,
   "language": "python",
   "sourceType": "notebook"
  },
  "kernelspec": {
   "display_name": "Python 3",
   "language": "python",
   "name": "python3"
  },
  "language_info": {
   "codemirror_mode": {
    "name": "ipython",
    "version": 3
   },
   "file_extension": ".py",
   "mimetype": "text/x-python",
   "name": "python",
   "nbconvert_exporter": "python",
   "pygments_lexer": "ipython3",
   "version": "3.11.11"
  },
  "papermill": {
   "default_parameters": {},
   "duration": 10.303961,
   "end_time": "2025-07-03T09:46:29.766715",
   "environment_variables": {},
   "exception": null,
   "input_path": "__notebook__.ipynb",
   "output_path": "__notebook__.ipynb",
   "parameters": {},
   "start_time": "2025-07-03T09:46:19.462754",
   "version": "2.6.0"
  }
 },
 "nbformat": 4,
 "nbformat_minor": 5
}
