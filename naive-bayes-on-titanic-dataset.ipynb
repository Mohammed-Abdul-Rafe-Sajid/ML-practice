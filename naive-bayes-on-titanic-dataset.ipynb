{
 "cells": [
  {
   "cell_type": "code",
   "execution_count": 1,
   "id": "477c7d53",
   "metadata": {
    "_cell_guid": "b1076dfc-b9ad-4769-8c92-a6c4dae69d19",
    "_uuid": "8f2839f25d086af736a60e9eeb907d3b93b6e0e5",
    "execution": {
     "iopub.execute_input": "2025-07-03T12:17:38.005671Z",
     "iopub.status.busy": "2025-07-03T12:17:38.005357Z",
     "iopub.status.idle": "2025-07-03T12:17:39.945359Z",
     "shell.execute_reply": "2025-07-03T12:17:39.944090Z"
    },
    "papermill": {
     "duration": 1.948813,
     "end_time": "2025-07-03T12:17:39.947321",
     "exception": false,
     "start_time": "2025-07-03T12:17:37.998508",
     "status": "completed"
    },
    "tags": []
   },
   "outputs": [
    {
     "name": "stdout",
     "output_type": "stream",
     "text": [
      "/kaggle/input/titanic/train.csv\n",
      "/kaggle/input/titanic/test.csv\n",
      "/kaggle/input/titanic/gender_submission.csv\n"
     ]
    }
   ],
   "source": [
    "# This Python 3 environment comes with many helpful analytics libraries installed\n",
    "# It is defined by the kaggle/python Docker image: https://github.com/kaggle/docker-python\n",
    "# For example, here's several helpful packages to load\n",
    "\n",
    "import numpy as np # linear algebra\n",
    "import pandas as pd # data processing, CSV file I/O (e.g. pd.read_csv)\n",
    "\n",
    "# Input data files are available in the read-only \"../input/\" directory\n",
    "# For example, running this (by clicking run or pressing Shift+Enter) will list all files under the input directory\n",
    "\n",
    "import os\n",
    "for dirname, _, filenames in os.walk('/kaggle/input'):\n",
    "    for filename in filenames:\n",
    "        print(os.path.join(dirname, filename))\n",
    "\n",
    "# You can write up to 20GB to the current directory (/kaggle/working/) that gets preserved as output when you create a version using \"Save & Run All\" \n",
    "# You can also write temporary files to /kaggle/temp/, but they won't be saved outside of the current session"
   ]
  },
  {
   "cell_type": "code",
   "execution_count": 2,
   "id": "45f18e16",
   "metadata": {
    "execution": {
     "iopub.execute_input": "2025-07-03T12:17:39.958801Z",
     "iopub.status.busy": "2025-07-03T12:17:39.958344Z",
     "iopub.status.idle": "2025-07-03T12:17:39.962625Z",
     "shell.execute_reply": "2025-07-03T12:17:39.961956Z"
    },
    "papermill": {
     "duration": 0.012118,
     "end_time": "2025-07-03T12:17:39.964349",
     "exception": false,
     "start_time": "2025-07-03T12:17:39.952231",
     "status": "completed"
    },
    "tags": []
   },
   "outputs": [],
   "source": [
    "import pandas as pd\n",
    "import numpy as np\n",
    "\n"
   ]
  },
  {
   "cell_type": "code",
   "execution_count": 3,
   "id": "21373949",
   "metadata": {
    "execution": {
     "iopub.execute_input": "2025-07-03T12:17:39.976672Z",
     "iopub.status.busy": "2025-07-03T12:17:39.975788Z",
     "iopub.status.idle": "2025-07-03T12:17:40.015775Z",
     "shell.execute_reply": "2025-07-03T12:17:40.014180Z"
    },
    "papermill": {
     "duration": 0.048991,
     "end_time": "2025-07-03T12:17:40.018662",
     "exception": false,
     "start_time": "2025-07-03T12:17:39.969671",
     "status": "completed"
    },
    "tags": []
   },
   "outputs": [],
   "source": [
    "train = pd.read_csv(\"/kaggle/input/titanic/train.csv\")\n",
    "test = pd.read_csv(\"/kaggle/input/titanic/test.csv\")\n"
   ]
  },
  {
   "cell_type": "code",
   "execution_count": 4,
   "id": "7b49d091",
   "metadata": {
    "execution": {
     "iopub.execute_input": "2025-07-03T12:17:40.029492Z",
     "iopub.status.busy": "2025-07-03T12:17:40.029056Z",
     "iopub.status.idle": "2025-07-03T12:17:40.077157Z",
     "shell.execute_reply": "2025-07-03T12:17:40.074666Z"
    },
    "papermill": {
     "duration": 0.056208,
     "end_time": "2025-07-03T12:17:40.079858",
     "exception": false,
     "start_time": "2025-07-03T12:17:40.023650",
     "status": "completed"
    },
    "tags": []
   },
   "outputs": [
    {
     "name": "stderr",
     "output_type": "stream",
     "text": [
      "/tmp/ipykernel_13/352430746.py:2: FutureWarning: A value is trying to be set on a copy of a DataFrame or Series through chained assignment using an inplace method.\n",
      "The behavior will change in pandas 3.0. This inplace method will never work because the intermediate object on which we are setting values always behaves as a copy.\n",
      "\n",
      "For example, when doing 'df[col].method(value, inplace=True)', try using 'df.method({col: value}, inplace=True)' or df[col] = df[col].method(value) instead, to perform the operation inplace on the original object.\n",
      "\n",
      "\n",
      "  train[\"Age\"].fillna(train[\"Age\"].median(), inplace=True)\n",
      "/tmp/ipykernel_13/352430746.py:3: FutureWarning: A value is trying to be set on a copy of a DataFrame or Series through chained assignment using an inplace method.\n",
      "The behavior will change in pandas 3.0. This inplace method will never work because the intermediate object on which we are setting values always behaves as a copy.\n",
      "\n",
      "For example, when doing 'df[col].method(value, inplace=True)', try using 'df.method({col: value}, inplace=True)' or df[col] = df[col].method(value) instead, to perform the operation inplace on the original object.\n",
      "\n",
      "\n",
      "  test[\"Age\"].fillna(train[\"Age\"].median(), inplace=True)\n",
      "/tmp/ipykernel_13/352430746.py:5: FutureWarning: A value is trying to be set on a copy of a DataFrame or Series through chained assignment using an inplace method.\n",
      "The behavior will change in pandas 3.0. This inplace method will never work because the intermediate object on which we are setting values always behaves as a copy.\n",
      "\n",
      "For example, when doing 'df[col].method(value, inplace=True)', try using 'df.method({col: value}, inplace=True)' or df[col] = df[col].method(value) instead, to perform the operation inplace on the original object.\n",
      "\n",
      "\n",
      "  train[\"Embarked\"].fillna(train[\"Embarked\"].mode()[0], inplace=True)\n",
      "/tmp/ipykernel_13/352430746.py:6: FutureWarning: A value is trying to be set on a copy of a DataFrame or Series through chained assignment using an inplace method.\n",
      "The behavior will change in pandas 3.0. This inplace method will never work because the intermediate object on which we are setting values always behaves as a copy.\n",
      "\n",
      "For example, when doing 'df[col].method(value, inplace=True)', try using 'df.method({col: value}, inplace=True)' or df[col] = df[col].method(value) instead, to perform the operation inplace on the original object.\n",
      "\n",
      "\n",
      "  test[\"Embarked\"].fillna(test[\"Embarked\"].mode()[0], inplace=True)\n",
      "/tmp/ipykernel_13/352430746.py:8: FutureWarning: A value is trying to be set on a copy of a DataFrame or Series through chained assignment using an inplace method.\n",
      "The behavior will change in pandas 3.0. This inplace method will never work because the intermediate object on which we are setting values always behaves as a copy.\n",
      "\n",
      "For example, when doing 'df[col].method(value, inplace=True)', try using 'df.method({col: value}, inplace=True)' or df[col] = df[col].method(value) instead, to perform the operation inplace on the original object.\n",
      "\n",
      "\n",
      "  test[\"Fare\"].fillna(test[\"Fare\"].median(), inplace=True)\n"
     ]
    }
   ],
   "source": [
    "# Fill missing values\n",
    "train[\"Age\"].fillna(train[\"Age\"].median(), inplace=True)\n",
    "test[\"Age\"].fillna(train[\"Age\"].median(), inplace=True)\n",
    "\n",
    "train[\"Embarked\"].fillna(train[\"Embarked\"].mode()[0], inplace=True)\n",
    "test[\"Embarked\"].fillna(test[\"Embarked\"].mode()[0], inplace=True)\n",
    "\n",
    "test[\"Fare\"].fillna(test[\"Fare\"].median(), inplace=True)\n",
    "\n",
    "# Family size\n",
    "train[\"FamilySize\"] = train[\"SibSp\"] + train[\"Parch\"] + 1\n",
    "test[\"FamilySize\"] = test[\"SibSp\"] + test[\"Parch\"] + 1\n",
    "\n",
    "# IsAlone\n",
    "train[\"IsAlone\"] = (train[\"FamilySize\"] == 1).astype(int)\n",
    "test[\"IsAlone\"] = (test[\"FamilySize\"] == 1).astype(int)\n",
    "\n",
    "# One-hot encoding for categorical variables\n",
    "train = pd.get_dummies(train, columns=[\"Sex\", \"Embarked\"], drop_first=True)\n",
    "test = pd.get_dummies(test, columns=[\"Sex\", \"Embarked\"], drop_first=True)\n"
   ]
  },
  {
   "cell_type": "code",
   "execution_count": 5,
   "id": "8f5ddc95",
   "metadata": {
    "execution": {
     "iopub.execute_input": "2025-07-03T12:17:40.089417Z",
     "iopub.status.busy": "2025-07-03T12:17:40.087814Z",
     "iopub.status.idle": "2025-07-03T12:17:40.098967Z",
     "shell.execute_reply": "2025-07-03T12:17:40.098065Z"
    },
    "papermill": {
     "duration": 0.017261,
     "end_time": "2025-07-03T12:17:40.101028",
     "exception": false,
     "start_time": "2025-07-03T12:17:40.083767",
     "status": "completed"
    },
    "tags": []
   },
   "outputs": [],
   "source": [
    "features = [\"Pclass\", \"Age\", \"Fare\", \"FamilySize\", \"IsAlone\", \"Sex_male\", \"Embarked_Q\", \"Embarked_S\"]\n",
    "X = train[features]\n",
    "y = train[\"Survived\"]\n",
    "X_test_final = test[features]\n"
   ]
  },
  {
   "cell_type": "code",
   "execution_count": 6,
   "id": "55070af2",
   "metadata": {
    "execution": {
     "iopub.execute_input": "2025-07-03T12:17:40.113371Z",
     "iopub.status.busy": "2025-07-03T12:17:40.112363Z",
     "iopub.status.idle": "2025-07-03T12:17:41.643390Z",
     "shell.execute_reply": "2025-07-03T12:17:41.642330Z"
    },
    "papermill": {
     "duration": 1.538898,
     "end_time": "2025-07-03T12:17:41.645118",
     "exception": false,
     "start_time": "2025-07-03T12:17:40.106220",
     "status": "completed"
    },
    "tags": []
   },
   "outputs": [],
   "source": [
    "from sklearn.preprocessing import StandardScaler\n",
    "\n",
    "scaler = StandardScaler()\n",
    "X_scaled = scaler.fit_transform(X)\n",
    "X_test_scaled = scaler.transform(X_test_final)\n"
   ]
  },
  {
   "cell_type": "code",
   "execution_count": 7,
   "id": "d1f154a9",
   "metadata": {
    "execution": {
     "iopub.execute_input": "2025-07-03T12:17:41.652561Z",
     "iopub.status.busy": "2025-07-03T12:17:41.652111Z",
     "iopub.status.idle": "2025-07-03T12:17:41.804117Z",
     "shell.execute_reply": "2025-07-03T12:17:41.803173Z"
    },
    "papermill": {
     "duration": 0.157608,
     "end_time": "2025-07-03T12:17:41.805869",
     "exception": false,
     "start_time": "2025-07-03T12:17:41.648261",
     "status": "completed"
    },
    "tags": []
   },
   "outputs": [],
   "source": [
    "from sklearn.model_selection import train_test_split\n",
    "\n",
    "X_train, X_val, y_train, y_val = train_test_split(X_scaled, y, test_size=0.2, random_state=42)\n"
   ]
  },
  {
   "cell_type": "code",
   "execution_count": 8,
   "id": "625f7ac8",
   "metadata": {
    "execution": {
     "iopub.execute_input": "2025-07-03T12:17:41.812982Z",
     "iopub.status.busy": "2025-07-03T12:17:41.812668Z",
     "iopub.status.idle": "2025-07-03T12:17:41.836520Z",
     "shell.execute_reply": "2025-07-03T12:17:41.835659Z"
    },
    "papermill": {
     "duration": 0.029023,
     "end_time": "2025-07-03T12:17:41.837937",
     "exception": false,
     "start_time": "2025-07-03T12:17:41.808914",
     "status": "completed"
    },
    "tags": []
   },
   "outputs": [
    {
     "data": {
      "text/html": [
       "<style>#sk-container-id-1 {color: black;background-color: white;}#sk-container-id-1 pre{padding: 0;}#sk-container-id-1 div.sk-toggleable {background-color: white;}#sk-container-id-1 label.sk-toggleable__label {cursor: pointer;display: block;width: 100%;margin-bottom: 0;padding: 0.3em;box-sizing: border-box;text-align: center;}#sk-container-id-1 label.sk-toggleable__label-arrow:before {content: \"▸\";float: left;margin-right: 0.25em;color: #696969;}#sk-container-id-1 label.sk-toggleable__label-arrow:hover:before {color: black;}#sk-container-id-1 div.sk-estimator:hover label.sk-toggleable__label-arrow:before {color: black;}#sk-container-id-1 div.sk-toggleable__content {max-height: 0;max-width: 0;overflow: hidden;text-align: left;background-color: #f0f8ff;}#sk-container-id-1 div.sk-toggleable__content pre {margin: 0.2em;color: black;border-radius: 0.25em;background-color: #f0f8ff;}#sk-container-id-1 input.sk-toggleable__control:checked~div.sk-toggleable__content {max-height: 200px;max-width: 100%;overflow: auto;}#sk-container-id-1 input.sk-toggleable__control:checked~label.sk-toggleable__label-arrow:before {content: \"▾\";}#sk-container-id-1 div.sk-estimator input.sk-toggleable__control:checked~label.sk-toggleable__label {background-color: #d4ebff;}#sk-container-id-1 div.sk-label input.sk-toggleable__control:checked~label.sk-toggleable__label {background-color: #d4ebff;}#sk-container-id-1 input.sk-hidden--visually {border: 0;clip: rect(1px 1px 1px 1px);clip: rect(1px, 1px, 1px, 1px);height: 1px;margin: -1px;overflow: hidden;padding: 0;position: absolute;width: 1px;}#sk-container-id-1 div.sk-estimator {font-family: monospace;background-color: #f0f8ff;border: 1px dotted black;border-radius: 0.25em;box-sizing: border-box;margin-bottom: 0.5em;}#sk-container-id-1 div.sk-estimator:hover {background-color: #d4ebff;}#sk-container-id-1 div.sk-parallel-item::after {content: \"\";width: 100%;border-bottom: 1px solid gray;flex-grow: 1;}#sk-container-id-1 div.sk-label:hover label.sk-toggleable__label {background-color: #d4ebff;}#sk-container-id-1 div.sk-serial::before {content: \"\";position: absolute;border-left: 1px solid gray;box-sizing: border-box;top: 0;bottom: 0;left: 50%;z-index: 0;}#sk-container-id-1 div.sk-serial {display: flex;flex-direction: column;align-items: center;background-color: white;padding-right: 0.2em;padding-left: 0.2em;position: relative;}#sk-container-id-1 div.sk-item {position: relative;z-index: 1;}#sk-container-id-1 div.sk-parallel {display: flex;align-items: stretch;justify-content: center;background-color: white;position: relative;}#sk-container-id-1 div.sk-item::before, #sk-container-id-1 div.sk-parallel-item::before {content: \"\";position: absolute;border-left: 1px solid gray;box-sizing: border-box;top: 0;bottom: 0;left: 50%;z-index: -1;}#sk-container-id-1 div.sk-parallel-item {display: flex;flex-direction: column;z-index: 1;position: relative;background-color: white;}#sk-container-id-1 div.sk-parallel-item:first-child::after {align-self: flex-end;width: 50%;}#sk-container-id-1 div.sk-parallel-item:last-child::after {align-self: flex-start;width: 50%;}#sk-container-id-1 div.sk-parallel-item:only-child::after {width: 0;}#sk-container-id-1 div.sk-dashed-wrapped {border: 1px dashed gray;margin: 0 0.4em 0.5em 0.4em;box-sizing: border-box;padding-bottom: 0.4em;background-color: white;}#sk-container-id-1 div.sk-label label {font-family: monospace;font-weight: bold;display: inline-block;line-height: 1.2em;}#sk-container-id-1 div.sk-label-container {text-align: center;}#sk-container-id-1 div.sk-container {/* jupyter's `normalize.less` sets `[hidden] { display: none; }` but bootstrap.min.css set `[hidden] { display: none !important; }` so we also need the `!important` here to be able to override the default hidden behavior on the sphinx rendered scikit-learn.org. See: https://github.com/scikit-learn/scikit-learn/issues/21755 */display: inline-block !important;position: relative;}#sk-container-id-1 div.sk-text-repr-fallback {display: none;}</style><div id=\"sk-container-id-1\" class=\"sk-top-container\"><div class=\"sk-text-repr-fallback\"><pre>GaussianNB()</pre><b>In a Jupyter environment, please rerun this cell to show the HTML representation or trust the notebook. <br />On GitHub, the HTML representation is unable to render, please try loading this page with nbviewer.org.</b></div><div class=\"sk-container\" hidden><div class=\"sk-item\"><div class=\"sk-estimator sk-toggleable\"><input class=\"sk-toggleable__control sk-hidden--visually\" id=\"sk-estimator-id-1\" type=\"checkbox\" checked><label for=\"sk-estimator-id-1\" class=\"sk-toggleable__label sk-toggleable__label-arrow\">GaussianNB</label><div class=\"sk-toggleable__content\"><pre>GaussianNB()</pre></div></div></div></div></div>"
      ],
      "text/plain": [
       "GaussianNB()"
      ]
     },
     "execution_count": 8,
     "metadata": {},
     "output_type": "execute_result"
    }
   ],
   "source": [
    "from sklearn.naive_bayes import GaussianNB\n",
    "nb_model = GaussianNB()\n",
    "nb_model.fit(X_train, y_train)\n"
   ]
  },
  {
   "cell_type": "code",
   "execution_count": 9,
   "id": "d69f5ca4",
   "metadata": {
    "execution": {
     "iopub.execute_input": "2025-07-03T12:17:41.845694Z",
     "iopub.status.busy": "2025-07-03T12:17:41.845386Z",
     "iopub.status.idle": "2025-07-03T12:17:42.147817Z",
     "shell.execute_reply": "2025-07-03T12:17:42.146827Z"
    },
    "papermill": {
     "duration": 0.308236,
     "end_time": "2025-07-03T12:17:42.149537",
     "exception": false,
     "start_time": "2025-07-03T12:17:41.841301",
     "status": "completed"
    },
    "tags": []
   },
   "outputs": [
    {
     "name": "stdout",
     "output_type": "stream",
     "text": [
      "Validation Accuracy: 0.7932960893854749\n",
      "\n",
      "Classification Report:\n",
      "               precision    recall  f1-score   support\n",
      "\n",
      "           0       0.81      0.84      0.83       105\n",
      "           1       0.76      0.73      0.74        74\n",
      "\n",
      "    accuracy                           0.79       179\n",
      "   macro avg       0.79      0.78      0.79       179\n",
      "weighted avg       0.79      0.79      0.79       179\n",
      "\n"
     ]
    },
    {
     "data": {
      "image/png": "[encoded data removed]",
      "text/plain": [
       "<Figure size 640x480 with 2 Axes>"
      ]
     },
     "metadata": {},
     "output_type": "display_data"
    }
   ],
   "source": [
    "from sklearn.metrics import accuracy_score, classification_report, confusion_matrix, ConfusionMatrixDisplay\n",
    "import matplotlib.pyplot as plt\n",
    "\n",
    "val_preds = nb_model.predict(X_val)\n",
    "\n",
    "print(\"Validation Accuracy:\", accuracy_score(y_val, val_preds))\n",
    "print(\"\\nClassification Report:\\n\", classification_report(y_val, val_preds))\n",
    "\n",
    "cm = confusion_matrix(y_val, val_preds)\n",
    "disp = ConfusionMatrixDisplay(confusion_matrix=cm, display_labels=[\"Died\", \"Survived\"])\n",
    "disp.plot(cmap=plt.cm.Blues)\n",
    "plt.title(\"Confusion Matrix - Naive Bayes\")\n",
    "plt.show()\n"
   ]
  },
  {
   "cell_type": "code",
   "execution_count": 10,
   "id": "04007c6b",
   "metadata": {
    "execution": {
     "iopub.execute_input": "2025-07-03T12:17:42.158489Z",
     "iopub.status.busy": "2025-07-03T12:17:42.158158Z",
     "iopub.status.idle": "2025-07-03T12:17:42.163295Z",
     "shell.execute_reply": "2025-07-03T12:17:42.162377Z"
    },
    "papermill": {
     "duration": 0.011128,
     "end_time": "2025-07-03T12:17:42.164782",
     "exception": false,
     "start_time": "2025-07-03T12:17:42.153654",
     "status": "completed"
    },
    "tags": []
   },
   "outputs": [],
   "source": [
    "final_preds = nb_model.predict(X_test_scaled)"
   ]
  },
  {
   "cell_type": "code",
   "execution_count": 11,
   "id": "f2110527",
   "metadata": {
    "execution": {
     "iopub.execute_input": "2025-07-03T12:17:42.173549Z",
     "iopub.status.busy": "2025-07-03T12:17:42.173214Z",
     "iopub.status.idle": "2025-07-03T12:17:42.185031Z",
     "shell.execute_reply": "2025-07-03T12:17:42.184158Z"
    },
    "papermill": {
     "duration": 0.017956,
     "end_time": "2025-07-03T12:17:42.186431",
     "exception": false,
     "start_time": "2025-07-03T12:17:42.168475",
     "status": "completed"
    },
    "tags": []
   },
   "outputs": [
    {
     "name": "stdout",
     "output_type": "stream",
     "text": [
      "Submission file created!\n"
     ]
    }
   ],
   "source": [
    "submission = pd.DataFrame({\n",
    "    \"PassengerId\": test[\"PassengerId\"],\n",
    "    \"Survived\": final_preds.astype(int)\n",
    "})\n",
    "\n",
    "submission.to_csv(\"submission.csv\", index=False)\n",
    "print(\"Submission file created!\")\n"
   ]
  },
  {
   "cell_type": "code",
   "execution_count": null,
   "id": "4bc30585",
   "metadata": {
    "papermill": {
     "duration": 0.003363,
     "end_time": "2025-07-03T12:17:42.193577",
     "exception": false,
     "start_time": "2025-07-03T12:17:42.190214",
     "status": "completed"
    },
    "tags": []
   },
   "outputs": [],
   "source": []
  }
 ],
 "metadata": {
  "kaggle": {
   "accelerator": "none",
   "dataSources": [
    {
     "databundleVersionId": 26502,
     "sourceId": 3136,
     "sourceType": "competition"
    }
   ],
   "dockerImageVersionId": 31040,
   "isGpuEnabled": false,
   "isInternetEnabled": false,
   "language": "python",
   "sourceType": "notebook"
  },
  "kernelspec": {
   "display_name": "Python 3",
   "language": "python",
   "name": "python3"
  },
  "language_info": {
   "codemirror_mode": {
    "name": "ipython",
    "version": 3
   },
   "file_extension": ".py",
   "mimetype": "text/x-python",
   "name": "python",
   "nbconvert_exporter": "python",
   "pygments_lexer": "ipython3",
   "version": "3.11.11"
  },
  "papermill": {
   "default_parameters": {},
   "duration": 10.001871,
   "end_time": "2025-07-03T12:17:42.919330",
   "environment_variables": {},
   "exception": null,
   "input_path": "__notebook__.ipynb",
   "output_path": "__notebook__.ipynb",
   "parameters": {},
   "start_time": "2025-07-03T12:17:32.917459",
   "version": "2.6.0"
  }
 },
 "nbformat": 4,
 "nbformat_minor": 5
}
