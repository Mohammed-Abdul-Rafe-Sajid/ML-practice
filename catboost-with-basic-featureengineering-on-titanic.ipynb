{
 "cells": [
  {
   "cell_type": "code",
   "execution_count": 1,
   "id": "cba95e1e",
   "metadata": {
    "_cell_guid": "b1076dfc-b9ad-4769-8c92-a6c4dae69d19",
    "_uuid": "8f2839f25d086af736a60e9eeb907d3b93b6e0e5",
    "execution": {
     "iopub.execute_input": "2025-07-03T11:14:35.307531Z",
     "iopub.status.busy": "2025-07-03T11:14:35.307229Z",
     "iopub.status.idle": "2025-07-03T11:14:37.246976Z",
     "shell.execute_reply": "2025-07-03T11:14:37.245888Z"
    },
    "papermill": {
     "duration": 1.945443,
     "end_time": "2025-07-03T11:14:37.248506",
     "exception": false,
     "start_time": "2025-07-03T11:14:35.303063",
     "status": "completed"
    },
    "tags": []
   },
   "outputs": [
    {
     "name": "stdout",
     "output_type": "stream",
     "text": [
      "/kaggle/input/titanic/train.csv\n",
      "/kaggle/input/titanic/test.csv\n",
      "/kaggle/input/titanic/gender_submission.csv\n"
     ]
    }
   ],
   "source": [
    "# This Python 3 environment comes with many helpful analytics libraries installed\n",
    "# It is defined by the kaggle/python Docker image: https://github.com/kaggle/docker-python\n",
    "# For example, here's several helpful packages to load\n",
    "\n",
    "import numpy as np # linear algebra\n",
    "import pandas as pd # data processing, CSV file I/O (e.g. pd.read_csv)\n",
    "\n",
    "# Input data files are available in the read-only \"../input/\" directory\n",
    "# For example, running this (by clicking run or pressing Shift+Enter) will list all files under the input directory\n",
    "\n",
    "import os\n",
    "for dirname, _, filenames in os.walk('/kaggle/input'):\n",
    "    for filename in filenames:\n",
    "        print(os.path.join(dirname, filename))\n",
    "\n",
    "# You can write up to 20GB to the current directory (/kaggle/working/) that gets preserved as output when you create a version using \"Save & Run All\" \n",
    "# You can also write temporary files to /kaggle/temp/, but they won't be saved outside of the current session"
   ]
  },
  {
   "cell_type": "code",
   "execution_count": 2,
   "id": "e21d194e",
   "metadata": {
    "execution": {
     "iopub.execute_input": "2025-07-03T11:14:37.255376Z",
     "iopub.status.busy": "2025-07-03T11:14:37.254975Z",
     "iopub.status.idle": "2025-07-03T11:14:39.963115Z",
     "shell.execute_reply": "2025-07-03T11:14:39.962128Z"
    },
    "papermill": {
     "duration": 2.713102,
     "end_time": "2025-07-03T11:14:39.964683",
     "exception": false,
     "start_time": "2025-07-03T11:14:37.251581",
     "status": "completed"
    },
    "tags": []
   },
   "outputs": [],
   "source": [
    "import pandas as pd\n",
    "import numpy as np\n",
    "from catboost import CatBoostClassifier, Pool\n",
    "from sklearn.model_selection import train_test_split\n",
    "from sklearn.metrics import accuracy_score, classification_report, confusion_matrix, ConfusionMatrixDisplay\n",
    "import matplotlib.pyplot as plt"
   ]
  },
  {
   "cell_type": "code",
   "execution_count": 3,
   "id": "9151498c",
   "metadata": {
    "execution": {
     "iopub.execute_input": "2025-07-03T11:14:39.971126Z",
     "iopub.status.busy": "2025-07-03T11:14:39.970661Z",
     "iopub.status.idle": "2025-07-03T11:14:40.000208Z",
     "shell.execute_reply": "2025-07-03T11:14:39.999383Z"
    },
    "papermill": {
     "duration": 0.034562,
     "end_time": "2025-07-03T11:14:40.001916",
     "exception": false,
     "start_time": "2025-07-03T11:14:39.967354",
     "status": "completed"
    },
    "tags": []
   },
   "outputs": [],
   "source": [
    "train = pd.read_csv(\"/kaggle/input/titanic/train.csv\")\n",
    "test = pd.read_csv(\"/kaggle/input/titanic/test.csv\")\n"
   ]
  },
  {
   "cell_type": "code",
   "execution_count": 4,
   "id": "ecf82009",
   "metadata": {
    "execution": {
     "iopub.execute_input": "2025-07-03T11:14:40.009048Z",
     "iopub.status.busy": "2025-07-03T11:14:40.008112Z",
     "iopub.status.idle": "2025-07-03T11:14:40.037354Z",
     "shell.execute_reply": "2025-07-03T11:14:40.036495Z"
    },
    "papermill": {
     "duration": 0.034364,
     "end_time": "2025-07-03T11:14:40.038963",
     "exception": false,
     "start_time": "2025-07-03T11:14:40.004599",
     "status": "completed"
    },
    "tags": []
   },
   "outputs": [
    {
     "name": "stderr",
     "output_type": "stream",
     "text": [
      "/tmp/ipykernel_13/3603717901.py:2: FutureWarning: A value is trying to be set on a copy of a DataFrame or Series through chained assignment using an inplace method.\n",
      "The behavior will change in pandas 3.0. This inplace method will never work because the intermediate object on which we are setting values always behaves as a copy.\n",
      "\n",
      "For example, when doing 'df[col].method(value, inplace=True)', try using 'df.method({col: value}, inplace=True)' or df[col] = df[col].method(value) instead, to perform the operation inplace on the original object.\n",
      "\n",
      "\n",
      "  train[\"Age\"].fillna(train[\"Age\"].median(), inplace=True)\n",
      "/tmp/ipykernel_13/3603717901.py:3: FutureWarning: A value is trying to be set on a copy of a DataFrame or Series through chained assignment using an inplace method.\n",
      "The behavior will change in pandas 3.0. This inplace method will never work because the intermediate object on which we are setting values always behaves as a copy.\n",
      "\n",
      "For example, when doing 'df[col].method(value, inplace=True)', try using 'df.method({col: value}, inplace=True)' or df[col] = df[col].method(value) instead, to perform the operation inplace on the original object.\n",
      "\n",
      "\n",
      "  test[\"Age\"].fillna(train[\"Age\"].median(), inplace=True)\n",
      "/tmp/ipykernel_13/3603717901.py:5: FutureWarning: A value is trying to be set on a copy of a DataFrame or Series through chained assignment using an inplace method.\n",
      "The behavior will change in pandas 3.0. This inplace method will never work because the intermediate object on which we are setting values always behaves as a copy.\n",
      "\n",
      "For example, when doing 'df[col].method(value, inplace=True)', try using 'df.method({col: value}, inplace=True)' or df[col] = df[col].method(value) instead, to perform the operation inplace on the original object.\n",
      "\n",
      "\n",
      "  test[\"Fare\"].fillna(test[\"Fare\"].median(), inplace=True)\n",
      "/tmp/ipykernel_13/3603717901.py:6: FutureWarning: A value is trying to be set on a copy of a DataFrame or Series through chained assignment using an inplace method.\n",
      "The behavior will change in pandas 3.0. This inplace method will never work because the intermediate object on which we are setting values always behaves as a copy.\n",
      "\n",
      "For example, when doing 'df[col].method(value, inplace=True)', try using 'df.method({col: value}, inplace=True)' or df[col] = df[col].method(value) instead, to perform the operation inplace on the original object.\n",
      "\n",
      "\n",
      "  train[\"Embarked\"].fillna(train[\"Embarked\"].mode()[0], inplace=True)\n",
      "/tmp/ipykernel_13/3603717901.py:7: FutureWarning: A value is trying to be set on a copy of a DataFrame or Series through chained assignment using an inplace method.\n",
      "The behavior will change in pandas 3.0. This inplace method will never work because the intermediate object on which we are setting values always behaves as a copy.\n",
      "\n",
      "For example, when doing 'df[col].method(value, inplace=True)', try using 'df.method({col: value}, inplace=True)' or df[col] = df[col].method(value) instead, to perform the operation inplace on the original object.\n",
      "\n",
      "\n",
      "  test[\"Embarked\"].fillna(test[\"Embarked\"].mode()[0], inplace=True)\n"
     ]
    }
   ],
   "source": [
    "# Fill missing values\n",
    "train[\"Age\"].fillna(train[\"Age\"].median(), inplace=True)\n",
    "test[\"Age\"].fillna(train[\"Age\"].median(), inplace=True)\n",
    "\n",
    "test[\"Fare\"].fillna(test[\"Fare\"].median(), inplace=True)\n",
    "train[\"Embarked\"].fillna(train[\"Embarked\"].mode()[0], inplace=True)\n",
    "test[\"Embarked\"].fillna(test[\"Embarked\"].mode()[0], inplace=True)\n",
    "\n",
    "# Family size\n",
    "train[\"FamilySize\"] = train[\"SibSp\"] + train[\"Parch\"] + 1\n",
    "test[\"FamilySize\"] = test[\"SibSp\"] + test[\"Parch\"] + 1\n",
    "\n",
    "# IsAlone\n",
    "train[\"IsAlone\"] = (train[\"FamilySize\"] == 1).astype(int)\n",
    "test[\"IsAlone\"] = (test[\"FamilySize\"] == 1).astype(int)\n",
    "\n",
    "# Title from Name\n",
    "train[\"Title\"] = train[\"Name\"].str.extract(\" ([A-Za-z]+)\\.\", expand=False)\n",
    "test[\"Title\"] = test[\"Name\"].str.extract(\" ([A-Za-z]+)\\.\", expand=False)\n",
    "\n",
    "for df in [train, test]:\n",
    "    df[\"Title\"] = df[\"Title\"].replace(['Mlle', 'Ms'], 'Miss')\n",
    "    df[\"Title\"] = df[\"Title\"].replace('Mme', 'Mrs')\n",
    "    df[\"Title\"] = df[\"Title\"].replace(['Lady', 'Countess','Capt','Col',\n",
    "                                       'Don','Dr','Major','Rev','Sir',\n",
    "                                       'Jonkheer','Dona'], 'Rare')\n"
   ]
  },
  {
   "cell_type": "code",
   "execution_count": 5,
   "id": "5abeb52c",
   "metadata": {
    "execution": {
     "iopub.execute_input": "2025-07-03T11:14:40.045277Z",
     "iopub.status.busy": "2025-07-03T11:14:40.044986Z",
     "iopub.status.idle": "2025-07-03T11:14:40.049108Z",
     "shell.execute_reply": "2025-07-03T11:14:40.048310Z"
    },
    "papermill": {
     "duration": 0.008814,
     "end_time": "2025-07-03T11:14:40.050517",
     "exception": false,
     "start_time": "2025-07-03T11:14:40.041703",
     "status": "completed"
    },
    "tags": []
   },
   "outputs": [],
   "source": [
    "features = [\n",
    "    \"Pclass\", \"Sex\", \"Age\", \"SibSp\", \"Parch\", \"Fare\",\n",
    "    \"Embarked\", \"FamilySize\", \"IsAlone\", \"Title\"\n",
    "]\n",
    "\n",
    "target = \"Survived\"\n"
   ]
  },
  {
   "cell_type": "code",
   "execution_count": 6,
   "id": "40bf5e9f",
   "metadata": {
    "execution": {
     "iopub.execute_input": "2025-07-03T11:14:40.056624Z",
     "iopub.status.busy": "2025-07-03T11:14:40.056341Z",
     "iopub.status.idle": "2025-07-03T11:14:40.070923Z",
     "shell.execute_reply": "2025-07-03T11:14:40.070135Z"
    },
    "papermill": {
     "duration": 0.019187,
     "end_time": "2025-07-03T11:14:40.072405",
     "exception": false,
     "start_time": "2025-07-03T11:14:40.053218",
     "status": "completed"
    },
    "tags": []
   },
   "outputs": [],
   "source": [
    "cat_features = [\"Sex\", \"Embarked\", \"Title\"]\n",
    "X = train[features]\n",
    "y = train[target]\n",
    "X_test_final = test[features]\n",
    "\n",
    "X_train, X_val, y_train, y_val = train_test_split(\n",
    "    X, y, test_size=0.2, random_state=42\n",
    ")\n"
   ]
  },
  {
   "cell_type": "code",
   "execution_count": 7,
   "id": "f4d7fcae",
   "metadata": {
    "execution": {
     "iopub.execute_input": "2025-07-03T11:14:40.079028Z",
     "iopub.status.busy": "2025-07-03T11:14:40.078423Z",
     "iopub.status.idle": "2025-07-03T11:14:40.824316Z",
     "shell.execute_reply": "2025-07-03T11:14:40.823667Z"
    },
    "papermill": {
     "duration": 0.750485,
     "end_time": "2025-07-03T11:14:40.825617",
     "exception": false,
     "start_time": "2025-07-03T11:14:40.075132",
     "status": "completed"
    },
    "tags": []
   },
   "outputs": [
    {
     "data": {
      "text/plain": [
       "<catboost.core.CatBoostClassifier at 0x7857556e2450>"
      ]
     },
     "execution_count": 7,
     "metadata": {},
     "output_type": "execute_result"
    }
   ],
   "source": [
    "model = CatBoostClassifier(\n",
    "    iterations=300,\n",
    "    learning_rate=0.05,\n",
    "    depth=4,\n",
    "    random_state=42,\n",
    "    cat_features=cat_features,\n",
    "    verbose=0\n",
    ")\n",
    "\n",
    "model.fit(X_train, y_train, cat_features=cat_features)\n"
   ]
  },
  {
   "cell_type": "code",
   "execution_count": 8,
   "id": "5735c771",
   "metadata": {
    "execution": {
     "iopub.execute_input": "2025-07-03T11:14:40.832162Z",
     "iopub.status.busy": "2025-07-03T11:14:40.831895Z",
     "iopub.status.idle": "2025-07-03T11:14:41.219746Z",
     "shell.execute_reply": "2025-07-03T11:14:41.218888Z"
    },
    "papermill": {
     "duration": 0.392785,
     "end_time": "2025-07-03T11:14:41.221267",
     "exception": false,
     "start_time": "2025-07-03T11:14:40.828482",
     "status": "completed"
    },
    "tags": []
   },
   "outputs": [
    {
     "name": "stdout",
     "output_type": "stream",
     "text": [
      "Validation Accuracy: 0.8212290502793296\n",
      "\n",
      "Classification Report:\n",
      "               precision    recall  f1-score   support\n",
      "\n",
      "           0       0.83      0.88      0.85       105\n",
      "           1       0.81      0.74      0.77        74\n",
      "\n",
      "    accuracy                           0.82       179\n",
      "   macro avg       0.82      0.81      0.81       179\n",
      "weighted avg       0.82      0.82      0.82       179\n",
      "\n"
     ]
    },
    {
     "data": {
      "image/png": "[encoded data removed]",
      "text/plain": [
       "<Figure size 640x480 with 2 Axes>"
      ]
     },
     "metadata": {},
     "output_type": "display_data"
    }
   ],
   "source": [
    "val_preds = model.predict(X_val)\n",
    "\n",
    "print(\"Validation Accuracy:\", accuracy_score(y_val, val_preds))\n",
    "print(\"\\nClassification Report:\\n\", classification_report(y_val, val_preds))\n",
    "\n",
    "# Confusion Matrix\n",
    "cm = confusion_matrix(y_val, val_preds)\n",
    "disp = ConfusionMatrixDisplay(confusion_matrix=cm, display_labels=[\"Died\", \"Survived\"])\n",
    "disp.plot(cmap=plt.cm.Blues)\n",
    "plt.title(\"CatBoost Confusion Matrix\")\n",
    "plt.show()\n"
   ]
  },
  {
   "cell_type": "code",
   "execution_count": 9,
   "id": "2c0ca563",
   "metadata": {
    "execution": {
     "iopub.execute_input": "2025-07-03T11:14:41.228583Z",
     "iopub.status.busy": "2025-07-03T11:14:41.228336Z",
     "iopub.status.idle": "2025-07-03T11:14:41.241965Z",
     "shell.execute_reply": "2025-07-03T11:14:41.241001Z"
    },
    "papermill": {
     "duration": 0.018969,
     "end_time": "2025-07-03T11:14:41.243451",
     "exception": false,
     "start_time": "2025-07-03T11:14:41.224482",
     "status": "completed"
    },
    "tags": []
   },
   "outputs": [
    {
     "name": "stdout",
     "output_type": "stream",
     "text": [
      "Submission file created!\n"
     ]
    }
   ],
   "source": [
    "final_preds = model.predict(X_test_final)\n",
    "\n",
    "submission = pd.DataFrame({\n",
    "    \"PassengerId\": test[\"PassengerId\"],\n",
    "    \"Survived\": final_preds.astype(int)\n",
    "})\n",
    "\n",
    "submission.to_csv(\"submission.csv\", index=False)\n",
    "print(\"Submission file created!\")\n"
   ]
  },
  {
   "cell_type": "code",
   "execution_count": null,
   "id": "6fb829f5",
   "metadata": {
    "papermill": {
     "duration": 0.003064,
     "end_time": "2025-07-03T11:14:41.250008",
     "exception": false,
     "start_time": "2025-07-03T11:14:41.246944",
     "status": "completed"
    },
    "tags": []
   },
   "outputs": [],
   "source": []
  }
 ],
 "metadata": {
  "kaggle": {
   "accelerator": "none",
   "dataSources": [
    {
     "databundleVersionId": 26502,
     "sourceId": 3136,
     "sourceType": "competition"
    }
   ],
   "dockerImageVersionId": 31040,
   "isGpuEnabled": false,
   "isInternetEnabled": false,
   "language": "python",
   "sourceType": "notebook"
  },
  "kernelspec": {
   "display_name": "Python 3",
   "language": "python",
   "name": "python3"
  },
  "language_info": {
   "codemirror_mode": {
    "name": "ipython",
    "version": 3
   },
   "file_extension": ".py",
   "mimetype": "text/x-python",
   "name": "python",
   "nbconvert_exporter": "python",
   "pygments_lexer": "ipython3",
   "version": "3.11.11"
  },
  "papermill": {
   "default_parameters": {},
   "duration": 11.672919,
   "end_time": "2025-07-03T11:14:41.972600",
   "environment_variables": {},
   "exception": null,
   "input_path": "__notebook__.ipynb",
   "output_path": "__notebook__.ipynb",
   "parameters": {},
   "start_time": "2025-07-03T11:14:30.299681",
   "version": "2.6.0"
  }
 },
 "nbformat": 4,
 "nbformat_minor": 5
}
